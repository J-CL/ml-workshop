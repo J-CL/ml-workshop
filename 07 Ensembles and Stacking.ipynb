{
 "cells": [
  {
   "cell_type": "markdown",
   "metadata": {},
   "source": [
    "<img align=\"center\" src=\"http://sydney.edu.au/images/content/about/logo-mono.jpg\">\n",
    "<h1 align=\"center\" style=\"margin-top:10px\">Machine Learning Using Python (MEAFA Workshop)</h1>\n",
    "<h2 align=\"center\" style=\"margin-top:10px\">Lesson 7: Ensembles and Stacking</h2>\n",
    "<br>\n",
    "\n",
    "<a href=\"#Data:-Twitter-Airline-Sentiment\">Twitter Airline Sentiment Data</a> <br>\n",
    "<a href=\"#Data-Preparation\">Data Preparation</a> <br>\n",
    "<a href=\"#Text-Classification-Methods\">Text Classification Methods</a> <br>\n",
    "<a href=\"#Voting-Classifier\">Voting Classifier</a> <br>\n",
    "<a href=\"#Model-Stacking\">Model Stacking</a> <br>\n",
    "<a href=\"#Model-Evaluation\">Model Evaluation</a> <br>\n",
    "\n",
    "This notebook relies on the following imports and settings."
   ]
  },
  {
   "cell_type": "code",
   "execution_count": 1,
   "metadata": {},
   "outputs": [],
   "source": [
    "# Packages\n",
    "import nltk\n",
    "import numpy as np\n",
    "from scipy import stats\n",
    "import pandas as pd\n",
    "import matplotlib.pyplot as plt\n",
    "import seaborn as sns\n",
    "import warnings\n",
    "warnings.filterwarnings('ignore') "
   ]
  },
  {
   "cell_type": "code",
   "execution_count": 2,
   "metadata": {},
   "outputs": [],
   "source": [
    "# Plot settings\n",
    "sns.set_context('notebook') \n",
    "sns.set_style('ticks') \n",
    "colours = ['#1F77B4', '#FF7F0E', '#2CA02C', '#DB2728', '#9467BD', '#8C564B', '#E377C2','#7F7F7F', '#BCBD22', '#17BECF']\n",
    "crayon = ['#4E79A7','#F28E2C','#E15759','#76B7B2','#59A14F', '#EDC949','#AF7AA1','#FF9DA7','#9C755F','#BAB0AB']\n",
    "sns.set_palette(colours)\n",
    "%matplotlib inline\n",
    "plt.rcParams['figure.figsize'] = (9, 6)"
   ]
  },
  {
   "cell_type": "code",
   "execution_count": 3,
   "metadata": {},
   "outputs": [],
   "source": [
    "from sklearn.model_selection import train_test_split\n",
    "from sklearn.model_selection import RandomizedSearchCV, GridSearchCV\n",
    "from sklearn.metrics import accuracy_score, recall_score, precision_score, roc_auc_score, confusion_matrix, log_loss\n",
    "\n",
    "from sklearn.naive_bayes import BernoulliNB\n",
    "from sklearn.linear_model import LogisticRegression, LogisticRegressionCV\n",
    "from sklearn.tree import DecisionTreeClassifier\n",
    "from sklearn.ensemble import  RandomForestClassifier\n",
    "import lightgbm as lgb"
   ]
  },
  {
   "cell_type": "markdown",
   "metadata": {},
   "source": [
    "##Twitter Airline Sentiment Data\n",
    "\n",
    "In this lesson we revisit the Twitter airline sentiment dataset. To save time, we directly load the processed dataset that we constructed in the earlier lesson. "
   ]
  },
  {
   "cell_type": "code",
   "execution_count": 4,
   "metadata": {},
   "outputs": [
    {
     "data": {
      "text/html": [
       "<div>\n",
       "<style>\n",
       "    .dataframe thead tr:only-child th {\n",
       "        text-align: right;\n",
       "    }\n",
       "\n",
       "    .dataframe thead th {\n",
       "        text-align: left;\n",
       "    }\n",
       "\n",
       "    .dataframe tbody tr th {\n",
       "        vertical-align: top;\n",
       "    }\n",
       "</style>\n",
       "<table border=\"1\" class=\"dataframe\">\n",
       "  <thead>\n",
       "    <tr style=\"text-align: right;\">\n",
       "      <th></th>\n",
       "      <th>tweet_id</th>\n",
       "      <th>airline_sentiment</th>\n",
       "      <th>airline_sentiment_confidence</th>\n",
       "      <th>negativereason</th>\n",
       "      <th>negativereason_confidence</th>\n",
       "      <th>airline</th>\n",
       "      <th>airline_sentiment_gold</th>\n",
       "      <th>name</th>\n",
       "      <th>negativereason_gold</th>\n",
       "      <th>retweet_count</th>\n",
       "      <th>text</th>\n",
       "      <th>tweet_coord</th>\n",
       "      <th>tweet_created</th>\n",
       "      <th>tweet_location</th>\n",
       "      <th>user_timezone</th>\n",
       "      <th>tokens</th>\n",
       "      <th>positive</th>\n",
       "    </tr>\n",
       "  </thead>\n",
       "  <tbody>\n",
       "    <tr>\n",
       "      <th>3</th>\n",
       "      <td>570301031407624196</td>\n",
       "      <td>negative</td>\n",
       "      <td>1.0</td>\n",
       "      <td>Bad Flight</td>\n",
       "      <td>0.7033</td>\n",
       "      <td>Virgin America</td>\n",
       "      <td>NaN</td>\n",
       "      <td>jnardino</td>\n",
       "      <td>NaN</td>\n",
       "      <td>0</td>\n",
       "      <td>@VirginAmerica it's really aggressive to blast...</td>\n",
       "      <td>NaN</td>\n",
       "      <td>2015-02-24 11:15:36 -0800</td>\n",
       "      <td>NaN</td>\n",
       "      <td>Pacific Time (US &amp; Canada)</td>\n",
       "      <td>[@virginamerica, it', realli, aggress, blast, ...</td>\n",
       "      <td>0</td>\n",
       "    </tr>\n",
       "    <tr>\n",
       "      <th>4</th>\n",
       "      <td>570300817074462722</td>\n",
       "      <td>negative</td>\n",
       "      <td>1.0</td>\n",
       "      <td>Can't Tell</td>\n",
       "      <td>1.0000</td>\n",
       "      <td>Virgin America</td>\n",
       "      <td>NaN</td>\n",
       "      <td>jnardino</td>\n",
       "      <td>NaN</td>\n",
       "      <td>0</td>\n",
       "      <td>@VirginAmerica and it's a really big bad thing...</td>\n",
       "      <td>NaN</td>\n",
       "      <td>2015-02-24 11:14:45 -0800</td>\n",
       "      <td>NaN</td>\n",
       "      <td>Pacific Time (US &amp; Canada)</td>\n",
       "      <td>[@virginamerica, it', realli, big, bad, thing]</td>\n",
       "      <td>0</td>\n",
       "    </tr>\n",
       "    <tr>\n",
       "      <th>5</th>\n",
       "      <td>570300767074181121</td>\n",
       "      <td>negative</td>\n",
       "      <td>1.0</td>\n",
       "      <td>Can't Tell</td>\n",
       "      <td>0.6842</td>\n",
       "      <td>Virgin America</td>\n",
       "      <td>NaN</td>\n",
       "      <td>jnardino</td>\n",
       "      <td>NaN</td>\n",
       "      <td>0</td>\n",
       "      <td>@VirginAmerica seriously would pay $30 a fligh...</td>\n",
       "      <td>NaN</td>\n",
       "      <td>2015-02-24 11:14:33 -0800</td>\n",
       "      <td>NaN</td>\n",
       "      <td>Pacific Time (US &amp; Canada)</td>\n",
       "      <td>[@virginamerica, serious, would, pay, 30, flig...</td>\n",
       "      <td>0</td>\n",
       "    </tr>\n",
       "    <tr>\n",
       "      <th>9</th>\n",
       "      <td>570295459631263746</td>\n",
       "      <td>positive</td>\n",
       "      <td>1.0</td>\n",
       "      <td>NaN</td>\n",
       "      <td>NaN</td>\n",
       "      <td>Virgin America</td>\n",
       "      <td>NaN</td>\n",
       "      <td>YupitsTate</td>\n",
       "      <td>NaN</td>\n",
       "      <td>0</td>\n",
       "      <td>@VirginAmerica it was amazing, and arrived an ...</td>\n",
       "      <td>NaN</td>\n",
       "      <td>2015-02-24 10:53:27 -0800</td>\n",
       "      <td>Los Angeles</td>\n",
       "      <td>Eastern Time (US &amp; Canada)</td>\n",
       "      <td>[@virginamerica, amaz, arriv, hour, earli, you...</td>\n",
       "      <td>1</td>\n",
       "    </tr>\n",
       "    <tr>\n",
       "      <th>11</th>\n",
       "      <td>570289724453216256</td>\n",
       "      <td>positive</td>\n",
       "      <td>1.0</td>\n",
       "      <td>NaN</td>\n",
       "      <td>NaN</td>\n",
       "      <td>Virgin America</td>\n",
       "      <td>NaN</td>\n",
       "      <td>HyperCamiLax</td>\n",
       "      <td>NaN</td>\n",
       "      <td>0</td>\n",
       "      <td>@VirginAmerica I &amp;lt;3 pretty graphics. so muc...</td>\n",
       "      <td>NaN</td>\n",
       "      <td>2015-02-24 10:30:40 -0800</td>\n",
       "      <td>NYC</td>\n",
       "      <td>America/New_York</td>\n",
       "      <td>[@virginamerica, &lt;3, pretti, graphic, much, be...</td>\n",
       "      <td>1</td>\n",
       "    </tr>\n",
       "  </tbody>\n",
       "</table>\n",
       "</div>"
      ],
      "text/plain": [
       "              tweet_id airline_sentiment  airline_sentiment_confidence  \\\n",
       "3   570301031407624196          negative                           1.0   \n",
       "4   570300817074462722          negative                           1.0   \n",
       "5   570300767074181121          negative                           1.0   \n",
       "9   570295459631263746          positive                           1.0   \n",
       "11  570289724453216256          positive                           1.0   \n",
       "\n",
       "   negativereason  negativereason_confidence         airline  \\\n",
       "3      Bad Flight                     0.7033  Virgin America   \n",
       "4      Can't Tell                     1.0000  Virgin America   \n",
       "5      Can't Tell                     0.6842  Virgin America   \n",
       "9             NaN                        NaN  Virgin America   \n",
       "11            NaN                        NaN  Virgin America   \n",
       "\n",
       "   airline_sentiment_gold          name negativereason_gold  retweet_count  \\\n",
       "3                     NaN      jnardino                 NaN              0   \n",
       "4                     NaN      jnardino                 NaN              0   \n",
       "5                     NaN      jnardino                 NaN              0   \n",
       "9                     NaN    YupitsTate                 NaN              0   \n",
       "11                    NaN  HyperCamiLax                 NaN              0   \n",
       "\n",
       "                                                 text tweet_coord  \\\n",
       "3   @VirginAmerica it's really aggressive to blast...         NaN   \n",
       "4   @VirginAmerica and it's a really big bad thing...         NaN   \n",
       "5   @VirginAmerica seriously would pay $30 a fligh...         NaN   \n",
       "9   @VirginAmerica it was amazing, and arrived an ...         NaN   \n",
       "11  @VirginAmerica I &lt;3 pretty graphics. so muc...         NaN   \n",
       "\n",
       "                tweet_created tweet_location               user_timezone  \\\n",
       "3   2015-02-24 11:15:36 -0800            NaN  Pacific Time (US & Canada)   \n",
       "4   2015-02-24 11:14:45 -0800            NaN  Pacific Time (US & Canada)   \n",
       "5   2015-02-24 11:14:33 -0800            NaN  Pacific Time (US & Canada)   \n",
       "9   2015-02-24 10:53:27 -0800    Los Angeles  Eastern Time (US & Canada)   \n",
       "11  2015-02-24 10:30:40 -0800            NYC            America/New_York   \n",
       "\n",
       "                                               tokens  positive  \n",
       "3   [@virginamerica, it', realli, aggress, blast, ...         0  \n",
       "4      [@virginamerica, it', realli, big, bad, thing]         0  \n",
       "5   [@virginamerica, serious, would, pay, 30, flig...         0  \n",
       "9   [@virginamerica, amaz, arriv, hour, earli, you...         1  \n",
       "11  [@virginamerica, <3, pretti, graphic, much, be...         1  "
      ]
     },
     "execution_count": 4,
     "metadata": {},
     "output_type": "execute_result"
    }
   ],
   "source": [
    "data = pd.read_pickle('Datasets/processed_tweets.pickle')\n",
    "data.head()"
   ]
  },
  {
   "cell_type": "code",
   "execution_count": 5,
   "metadata": {},
   "outputs": [
    {
     "data": {
      "text/html": [
       "<div>\n",
       "<style>\n",
       "    .dataframe thead tr:only-child th {\n",
       "        text-align: right;\n",
       "    }\n",
       "\n",
       "    .dataframe thead th {\n",
       "        text-align: left;\n",
       "    }\n",
       "\n",
       "    .dataframe tbody tr th {\n",
       "        vertical-align: top;\n",
       "    }\n",
       "</style>\n",
       "<table border=\"1\" class=\"dataframe\">\n",
       "  <thead>\n",
       "    <tr style=\"text-align: right;\">\n",
       "      <th></th>\n",
       "      <th>text</th>\n",
       "      <th>tokens</th>\n",
       "    </tr>\n",
       "  </thead>\n",
       "  <tbody>\n",
       "    <tr>\n",
       "      <th>14625</th>\n",
       "      <td>@AmericanAir Flight 236 was great. Fantastic c...</td>\n",
       "      <td>[@americanair, flight, 236, great, fantast, ca...</td>\n",
       "    </tr>\n",
       "    <tr>\n",
       "      <th>14626</th>\n",
       "      <td>@AmericanAir Flight 953 NYC-Buenos Aires has b...</td>\n",
       "      <td>[@americanair, flight, 953, nyc-bueno, air, de...</td>\n",
       "    </tr>\n",
       "    <tr>\n",
       "      <th>14627</th>\n",
       "      <td>@AmericanAir Flight Cancelled Flightled, can't...</td>\n",
       "      <td>[@americanair, flight, cancel, flightl, can't,...</td>\n",
       "    </tr>\n",
       "    <tr>\n",
       "      <th>14628</th>\n",
       "      <td>Thank you. “@AmericanAir: @jlhalldc Customer R...</td>\n",
       "      <td>[thank, “, @americanair, @jlhalldc, custom, re...</td>\n",
       "    </tr>\n",
       "    <tr>\n",
       "      <th>14629</th>\n",
       "      <td>@AmericanAir How do I change my flight if the ...</td>\n",
       "      <td>[@americanair, chang, flight, phone, system, k...</td>\n",
       "    </tr>\n",
       "    <tr>\n",
       "      <th>14630</th>\n",
       "      <td>@AmericanAir Thanks! He is.</td>\n",
       "      <td>[@americanair, thank]</td>\n",
       "    </tr>\n",
       "    <tr>\n",
       "      <th>14631</th>\n",
       "      <td>@AmericanAir thx for nothing on getting us out...</td>\n",
       "      <td>[@americanair, thx, noth, get, us, countri, ba...</td>\n",
       "    </tr>\n",
       "    <tr>\n",
       "      <th>14633</th>\n",
       "      <td>@AmericanAir my flight was Cancelled Flightled...</td>\n",
       "      <td>[@americanair, flight, cancel, flightl, leav, ...</td>\n",
       "    </tr>\n",
       "    <tr>\n",
       "      <th>14636</th>\n",
       "      <td>@AmericanAir leaving over 20 minutes Late Flig...</td>\n",
       "      <td>[@americanair, leav, 20, minut, late, flight, ...</td>\n",
       "    </tr>\n",
       "    <tr>\n",
       "      <th>14638</th>\n",
       "      <td>@AmericanAir you have my money, you change my ...</td>\n",
       "      <td>[@americanair, money, chang, flight, don't, an...</td>\n",
       "    </tr>\n",
       "  </tbody>\n",
       "</table>\n",
       "</div>"
      ],
      "text/plain": [
       "                                                    text  \\\n",
       "14625  @AmericanAir Flight 236 was great. Fantastic c...   \n",
       "14626  @AmericanAir Flight 953 NYC-Buenos Aires has b...   \n",
       "14627  @AmericanAir Flight Cancelled Flightled, can't...   \n",
       "14628  Thank you. “@AmericanAir: @jlhalldc Customer R...   \n",
       "14629  @AmericanAir How do I change my flight if the ...   \n",
       "14630                        @AmericanAir Thanks! He is.   \n",
       "14631  @AmericanAir thx for nothing on getting us out...   \n",
       "14633  @AmericanAir my flight was Cancelled Flightled...   \n",
       "14636  @AmericanAir leaving over 20 minutes Late Flig...   \n",
       "14638  @AmericanAir you have my money, you change my ...   \n",
       "\n",
       "                                                  tokens  \n",
       "14625  [@americanair, flight, 236, great, fantast, ca...  \n",
       "14626  [@americanair, flight, 953, nyc-bueno, air, de...  \n",
       "14627  [@americanair, flight, cancel, flightl, can't,...  \n",
       "14628  [thank, “, @americanair, @jlhalldc, custom, re...  \n",
       "14629  [@americanair, chang, flight, phone, system, k...  \n",
       "14630                              [@americanair, thank]  \n",
       "14631  [@americanair, thx, noth, get, us, countri, ba...  \n",
       "14633  [@americanair, flight, cancel, flightl, leav, ...  \n",
       "14636  [@americanair, leav, 20, minut, late, flight, ...  \n",
       "14638  [@americanair, money, chang, flight, don't, an...  "
      ]
     },
     "execution_count": 5,
     "metadata": {},
     "output_type": "execute_result"
    }
   ],
   "source": [
    "data[['text','tokens']].tail(10)"
   ]
  },
  {
   "cell_type": "code",
   "execution_count": 6,
   "metadata": {},
   "outputs": [],
   "source": [
    "# Randomly split indexes\n",
    "index_train, index_test  = train_test_split(np.array(data.index), train_size=0.7, random_state=1)\n",
    "\n",
    "# Write training and test sets \n",
    "train = data.loc[index_train,:].copy()\n",
    "test =  data.loc[index_test,:].copy()\n",
    "\n",
    "y_train = train['positive'].values\n",
    "y_test = test['positive'].values"
   ]
  },
  {
   "cell_type": "markdown",
   "metadata": {},
   "source": [
    "##Data preparation\n",
    "\n",
    "Compute frequency distribution of tokens."
   ]
  },
  {
   "cell_type": "code",
   "execution_count": 7,
   "metadata": {},
   "outputs": [],
   "source": [
    "fdist = nltk.FreqDist()\n",
    "for words in train['tokens']:\n",
    "    for word in words:\n",
    "            fdist[word] += 1"
   ]
  },
  {
   "cell_type": "markdown",
   "metadata": {},
   "source": [
    "Discard features with too few appearances, retrieve list of remaining tokens."
   ]
  },
  {
   "cell_type": "code",
   "execution_count": 8,
   "metadata": {},
   "outputs": [
    {
     "data": {
      "text/plain": [
       "1551"
      ]
     },
     "execution_count": 8,
     "metadata": {},
     "output_type": "execute_result"
    }
   ],
   "source": [
    "features = pd.Series(dict(fdist))\n",
    "features = features.sort_values(ascending=False)\n",
    "features = features[features>=5]\n",
    "len(features)"
   ]
  },
  {
   "cell_type": "markdown",
   "metadata": {},
   "source": [
    "Rank features based on univariate performance, if we want to include screening.  "
   ]
  },
  {
   "cell_type": "code",
   "execution_count": 9,
   "metadata": {},
   "outputs": [],
   "source": [
    "def univariate_design_matrix(feature, series):\n",
    "    X=series.apply(lambda tokens: (feature in tokens))\n",
    "    X= X.astype(int) \n",
    "    return X.values.reshape((-1,1)) # converting to a NumPy matrix, as requiresd\n",
    "\n",
    "def training_error(feature):\n",
    "    X_train = univariate_design_matrix(feature, train['tokens'])\n",
    "    nbc= BernoulliNB().fit(X_train, np.ravel(y_train))\n",
    "    prob = nbc.predict_proba(X_train)\n",
    "    return log_loss(y_train, prob)\n",
    "\n",
    "losses=[]\n",
    "for feature in features.index:\n",
    "    losses.append(training_error(feature))\n",
    "\n",
    "ranked = pd.Series(losses, index=features.index)\n",
    "ranked = ranked.sort_values()\n",
    "ranked_features = list(ranked.index)"
   ]
  },
  {
   "cell_type": "markdown",
   "metadata": {},
   "source": [
    "Build design matrix (slow to run)."
   ]
  },
  {
   "cell_type": "code",
   "execution_count": 10,
   "metadata": {},
   "outputs": [],
   "source": [
    "from scipy.sparse import lil_matrix\n",
    "\n",
    "def design_matrix(features, series):\n",
    "    X = lil_matrix((len(series),len(features))) # initialise \n",
    "    for i in range(len(series)): \n",
    "        tokens = series.iloc[i]\n",
    "        for j, feature in enumerate(features): # scan the list of features\n",
    "            if feature in tokens: # if the feature is among the tokens, \n",
    "                X[i, j]= 1.0\n",
    "    return X\n",
    "\n",
    "X_train = design_matrix(ranked_features, train['tokens'])\n",
    "X_test = design_matrix(ranked_features, test['tokens'])"
   ]
  },
  {
   "cell_type": "markdown",
   "metadata": {},
   "source": [
    "## Text Classification Methods\n",
    "\n",
    "### Naive Bayes"
   ]
  },
  {
   "cell_type": "code",
   "execution_count": 11,
   "metadata": {},
   "outputs": [
    {
     "data": {
      "text/plain": [
       "BernoulliNB(alpha=1.0, binarize=0.0, class_prior=None, fit_prior=True)"
      ]
     },
     "execution_count": 11,
     "metadata": {},
     "output_type": "execute_result"
    }
   ],
   "source": [
    "nbc= BernoulliNB()\n",
    "nbc.fit(X_train, y_train)"
   ]
  },
  {
   "cell_type": "markdown",
   "metadata": {},
   "source": [
    "###  Regularised Logistic Regression"
   ]
  },
  {
   "cell_type": "code",
   "execution_count": 12,
   "metadata": {},
   "outputs": [
    {
     "data": {
      "text/plain": [
       "LogisticRegressionCV(Cs=50, class_weight=None, cv=None, dual=False,\n",
       "           fit_intercept=True, intercept_scaling=1.0, max_iter=100,\n",
       "           multi_class='ovr', n_jobs=1, penalty='l1', random_state=None,\n",
       "           refit=True, scoring='neg_log_loss', solver='liblinear',\n",
       "           tol=0.0001, verbose=0)"
      ]
     },
     "execution_count": 12,
     "metadata": {},
     "output_type": "execute_result"
    }
   ],
   "source": [
    "logit_l1= LogisticRegressionCV(Cs = 50, penalty='l1', solver='liblinear', scoring='neg_log_loss')\n",
    "logit_l1.fit(X_train, y_train.ravel())"
   ]
  },
  {
   "cell_type": "code",
   "execution_count": 13,
   "metadata": {},
   "outputs": [
    {
     "data": {
      "text/plain": [
       "1093"
      ]
     },
     "execution_count": 13,
     "metadata": {},
     "output_type": "execute_result"
    }
   ],
   "source": [
    "np.sum(np.abs(logit_l1.coef_) == 0.0)"
   ]
  },
  {
   "cell_type": "code",
   "execution_count": 14,
   "metadata": {},
   "outputs": [
    {
     "data": {
      "text/plain": [
       "LogisticRegressionCV(Cs=50, class_weight=None, cv=None, dual=False,\n",
       "           fit_intercept=True, intercept_scaling=1.0, max_iter=100,\n",
       "           multi_class='ovr', n_jobs=1, penalty='l2', random_state=None,\n",
       "           refit=True, scoring='neg_log_loss', solver='lbfgs', tol=0.0001,\n",
       "           verbose=0)"
      ]
     },
     "execution_count": 14,
     "metadata": {},
     "output_type": "execute_result"
    }
   ],
   "source": [
    "logit_l2= LogisticRegressionCV(Cs = 50, penalty='l2', scoring='neg_log_loss')\n",
    "logit_l2.fit(X_train, y_train.ravel())"
   ]
  },
  {
   "cell_type": "markdown",
   "metadata": {},
   "source": [
    "### Random Forest"
   ]
  },
  {
   "cell_type": "code",
   "execution_count": 15,
   "metadata": {},
   "outputs": [
    {
     "name": "stdout",
     "output_type": "stream",
     "text": [
      "Best parameters found by randomised search: {'min_samples_leaf': 5, 'max_features': 350} \n",
      "\n"
     ]
    }
   ],
   "source": [
    "#%%time\n",
    "\n",
    "model = RandomForestClassifier(criterion = 'entropy',  n_estimators=100)\n",
    "\n",
    "tuning_parameters = {\n",
    "    'min_samples_leaf': [5, 10, 20, 50],\n",
    "    'max_features': np.arange(50, X_train.shape[1], 50),\n",
    "}\n",
    "\n",
    "rf_search = RandomizedSearchCV(model, tuning_parameters, cv = 5, n_iter= 16, scoring='neg_log_loss',\n",
    "                               return_train_score=False, n_jobs=4)\n",
    "rf_search.fit(X_train, y_train)\n",
    "\n",
    "rf = rf_search.best_estimator_\n",
    "\n",
    "print('Best parameters found by randomised search:', rf_search.best_params_, '\\n')"
   ]
  },
  {
   "cell_type": "markdown",
   "metadata": {},
   "source": [
    "### Gradient Boosting"
   ]
  },
  {
   "cell_type": "code",
   "execution_count": 16,
   "metadata": {},
   "outputs": [
    {
     "name": "stdout",
     "output_type": "stream",
     "text": [
      "Best parameters found by randomised search: {'reg_alpha': 0.0011613350732448448, 'n_estimators': 1000, 'max_depth': 4, 'learning_rate': 0.1} \n",
      "\n"
     ]
    }
   ],
   "source": [
    "#%%time \n",
    "\n",
    "from xgboost import XGBClassifier\n",
    "\n",
    "model = XGBClassifier()\n",
    "\n",
    "alphas = [0] + list(np.logspace(-10, 10, 81, base=2))\n",
    "\n",
    "tuning_parameters = {\n",
    "    'learning_rate': [0.001, 0.01, 0.05, 0.1],\n",
    "    'n_estimators' : [250, 500, 750, 1000, 1500, 2000, 2500, 3000, 5000],\n",
    "    'max_depth' : [1, 2, 3, 4],\n",
    "    'reg_alpha': alphas,\n",
    "}\n",
    "\n",
    "\n",
    "gb_search = RandomizedSearchCV(model, tuning_parameters, n_iter = 32, cv = 5,  scoring='neg_log_loss',\n",
    "                               return_train_score=False, n_jobs=4, random_state = 10)\n",
    "gb_search.fit(X_train, y_train)\n",
    "\n",
    "gb = gb_search.best_estimator_\n",
    "\n",
    "print('Best parameters found by randomised search:', gb_search.best_params_, '\\n')"
   ]
  },
  {
   "cell_type": "code",
   "execution_count": 17,
   "metadata": {},
   "outputs": [
    {
     "data": {
      "image/png": "[encoded data removed]",
      "text/plain": [
       "<matplotlib.figure.Figure at 0x20f36b3bbe0>"
      ]
     },
     "metadata": {},
     "output_type": "display_data"
    }
   ],
   "source": [
    "from statlearning import plot_feature_importance\n",
    "plot_feature_importance(gb, ranked_features, max_features=30)\n",
    "plt.show()"
   ]
  },
  {
   "cell_type": "markdown",
   "metadata": {},
   "source": [
    "### AdaBoost"
   ]
  },
  {
   "cell_type": "code",
   "execution_count": 18,
   "metadata": {},
   "outputs": [
    {
     "name": "stdout",
     "output_type": "stream",
     "text": [
      "Best parameters found by randomised search: {'n_estimators': 500, 'learning_rate': 0.001, 'base_estimator__max_depth': 2} \n",
      "\n"
     ]
    }
   ],
   "source": [
    "#%%time\n",
    "\n",
    "from sklearn.ensemble import AdaBoostClassifier\n",
    "\n",
    "learner = DecisionTreeClassifier(criterion='gini')\n",
    "\n",
    "model = AdaBoostClassifier(base_estimator = learner)\n",
    "\n",
    "tuning_parameters = {\n",
    "    'base_estimator__max_depth' : [1,2,3,4],\n",
    "    'learning_rate' : [0.001, 0.01, 0.02, 0.05, 0.1],\n",
    "    'n_estimators' : [100, 250, 500, 750, 1000, 1500, 2000, 3000],\n",
    "}\n",
    "\n",
    "adaboost_search = RandomizedSearchCV(model, tuning_parameters, n_iter = 4, cv = 5,  scoring='neg_log_loss',\n",
    "                               return_train_score=False, n_jobs=4, random_state = 1)\n",
    "adaboost_search.fit(X_train, y_train)\n",
    "\n",
    "adaboost = adaboost_search.best_estimator_\n",
    "\n",
    "print('Best parameters found by randomised search:', adaboost_search.best_params_, '\\n')"
   ]
  },
  {
   "cell_type": "markdown",
   "metadata": {},
   "source": [
    "### Linear Support Vector Classifier"
   ]
  },
  {
   "cell_type": "code",
   "execution_count": 19,
   "metadata": {},
   "outputs": [
    {
     "name": "stdout",
     "output_type": "stream",
     "text": [
      "Best parameters found by grid search: {'C': 0.25} \n",
      "\n"
     ]
    }
   ],
   "source": [
    "#%%time\n",
    "\n",
    "from sklearn.svm import LinearSVC\n",
    "\n",
    "Cs = np.logspace(-10, 10, 81, base=2)\n",
    "\n",
    "model = LinearSVC(loss='hinge')\n",
    "\n",
    "tuning_parameters ={\n",
    "    'C': Cs,\n",
    "}\n",
    "\n",
    "svm_search = GridSearchCV(model, tuning_parameters, cv=5, return_train_score=False, n_jobs=4)\n",
    "svm_search.fit(X_train, y_train)\n",
    "\n",
    "svm = svm_search.best_estimator_\n",
    "\n",
    "print('Best parameters found by grid search:', svm_search.best_params_, '\\n')"
   ]
  },
  {
   "cell_type": "markdown",
   "metadata": {},
   "source": [
    "## Voting Classifier"
   ]
  },
  {
   "cell_type": "code",
   "execution_count": 20,
   "metadata": {},
   "outputs": [
    {
     "data": {
      "text/plain": [
       "VotingClassifier(estimators=[('clf1', BernoulliNB(alpha=1.0, binarize=0.0, class_prior=None, fit_prior=True)), ('clf2', LogisticRegressionCV(Cs=50, class_weight=None, cv=None, dual=False,\n",
       "           fit_intercept=True, intercept_scaling=1.0, max_iter=100,\n",
       "           multi_class='ovr', n_jobs=1, penalty='l1', random_...e', max_iter=1000, multi_class='ovr',\n",
       "     penalty='l2', random_state=None, tol=0.0001, verbose=0))],\n",
       "         flatten_transform=None, n_jobs=1, voting='hard', weights=None)"
      ]
     },
     "execution_count": 20,
     "metadata": {},
     "output_type": "execute_result"
    }
   ],
   "source": [
    "#%%time\n",
    "from sklearn.ensemble import VotingClassifier\n",
    "\n",
    "clfs = [('clf1', nbc), ('clf2',  logit_l1), ('clf3',  logit_l2),  ('clf4',  gb), ('clf5',  svm) ]\n",
    "\n",
    "vhard = VotingClassifier(clfs)\n",
    "vhard.fit(X_train, y_train)"
   ]
  },
  {
   "cell_type": "code",
   "execution_count": 21,
   "metadata": {},
   "outputs": [
    {
     "data": {
      "text/plain": [
       "VotingClassifier(estimators=[('clf1', BernoulliNB(alpha=1.0, binarize=0.0, class_prior=None, fit_prior=True)), ('clf2', LogisticRegressionCV(Cs=50, class_weight=None, cv=None, dual=False,\n",
       "           fit_intercept=True, intercept_scaling=1.0, max_iter=100,\n",
       "           multi_class='ovr', n_jobs=1, penalty='l1', random_...0011613350732448448, reg_lambda=1, scale_pos_weight=1,\n",
       "       seed=None, silent=True, subsample=1))],\n",
       "         flatten_transform=None, n_jobs=1, voting='soft', weights=None)"
      ]
     },
     "execution_count": 21,
     "metadata": {},
     "output_type": "execute_result"
    }
   ],
   "source": [
    "#%%time\n",
    "clfs = [('clf1', nbc), ('clf2', logit_l1), ('clf3',  logit_l2), ('clf4',  gb)]\n",
    "# We exclude SVM since it does not predict probabilities\n",
    "\n",
    "vsoft = VotingClassifier(clfs, voting='soft')\n",
    "vsoft.fit(X_train, y_train)"
   ]
  },
  {
   "cell_type": "markdown",
   "metadata": {},
   "source": [
    "## Model Stacking\n"
   ]
  },
  {
   "cell_type": "code",
   "execution_count": 22,
   "metadata": {},
   "outputs": [
    {
     "name": "stdout",
     "output_type": "stream",
     "text": [
      "Wall time: 25min 5s\n"
     ]
    }
   ],
   "source": [
    "%%time\n",
    "from mlxtend.classifier import StackingCVClassifier\n",
    "\n",
    "stack = StackingCVClassifier([nbc, logit_l1, logit_l2, gb], use_probas=True, meta_classifier = LogisticRegression(C=1e4), cv=5)\n",
    "stack.fit(X_train.todense(), y_train) \n",
    "\n",
    "# The stacking class is not compatible with sparse matrices, which considerably slows down training\n",
    "# Remove XGboost, or replace it with LightGBM, for faster results"
   ]
  },
  {
   "cell_type": "markdown",
   "metadata": {},
   "source": [
    "## Model Evaluation\n"
   ]
  },
  {
   "cell_type": "code",
   "execution_count": 23,
   "metadata": {},
   "outputs": [
    {
     "data": {
      "text/html": [
       "<div>\n",
       "<style>\n",
       "    .dataframe thead tr:only-child th {\n",
       "        text-align: right;\n",
       "    }\n",
       "\n",
       "    .dataframe thead th {\n",
       "        text-align: left;\n",
       "    }\n",
       "\n",
       "    .dataframe tbody tr th {\n",
       "        vertical-align: top;\n",
       "    }\n",
       "</style>\n",
       "<table border=\"1\" class=\"dataframe\">\n",
       "  <thead>\n",
       "    <tr style=\"text-align: right;\">\n",
       "      <th></th>\n",
       "      <th>Error rate</th>\n",
       "      <th>Sensitivity</th>\n",
       "      <th>Specificity</th>\n",
       "      <th>AUC</th>\n",
       "      <th>Precision</th>\n",
       "    </tr>\n",
       "  </thead>\n",
       "  <tbody>\n",
       "    <tr>\n",
       "      <th>Naive Bayes</th>\n",
       "      <td>0.055</td>\n",
       "      <td>0.851</td>\n",
       "      <td>0.965</td>\n",
       "      <td>0.979</td>\n",
       "      <td>0.837</td>\n",
       "    </tr>\n",
       "    <tr>\n",
       "      <th>Logistic L1</th>\n",
       "      <td>0.054</td>\n",
       "      <td>0.808</td>\n",
       "      <td>0.975</td>\n",
       "      <td>0.978</td>\n",
       "      <td>0.872</td>\n",
       "    </tr>\n",
       "    <tr>\n",
       "      <th>Logistic L2</th>\n",
       "      <td>0.052</td>\n",
       "      <td>0.793</td>\n",
       "      <td>0.980</td>\n",
       "      <td>0.981</td>\n",
       "      <td>0.893</td>\n",
       "    </tr>\n",
       "    <tr>\n",
       "      <th>Random Forest</th>\n",
       "      <td>0.080</td>\n",
       "      <td>0.688</td>\n",
       "      <td>0.969</td>\n",
       "      <td>0.942</td>\n",
       "      <td>0.822</td>\n",
       "    </tr>\n",
       "    <tr>\n",
       "      <th>Gradient Boosting</th>\n",
       "      <td>0.050</td>\n",
       "      <td>0.802</td>\n",
       "      <td>0.981</td>\n",
       "      <td>0.978</td>\n",
       "      <td>0.899</td>\n",
       "    </tr>\n",
       "    <tr>\n",
       "      <th>AdaBoost</th>\n",
       "      <td>0.109</td>\n",
       "      <td>0.487</td>\n",
       "      <td>0.976</td>\n",
       "      <td>0.803</td>\n",
       "      <td>0.807</td>\n",
       "    </tr>\n",
       "    <tr>\n",
       "      <th>Linear SVC</th>\n",
       "      <td>0.051</td>\n",
       "      <td>0.804</td>\n",
       "      <td>0.980</td>\n",
       "      <td>0.977</td>\n",
       "      <td>0.894</td>\n",
       "    </tr>\n",
       "    <tr>\n",
       "      <th>Hard Voting</th>\n",
       "      <td>0.048</td>\n",
       "      <td>0.817</td>\n",
       "      <td>0.980</td>\n",
       "      <td>0.000</td>\n",
       "      <td>0.896</td>\n",
       "    </tr>\n",
       "    <tr>\n",
       "      <th>Soft Voting</th>\n",
       "      <td>0.046</td>\n",
       "      <td>0.830</td>\n",
       "      <td>0.981</td>\n",
       "      <td>0.983</td>\n",
       "      <td>0.900</td>\n",
       "    </tr>\n",
       "    <tr>\n",
       "      <th>Stack</th>\n",
       "      <td>0.047</td>\n",
       "      <td>0.836</td>\n",
       "      <td>0.978</td>\n",
       "      <td>0.984</td>\n",
       "      <td>0.888</td>\n",
       "    </tr>\n",
       "  </tbody>\n",
       "</table>\n",
       "</div>"
      ],
      "text/plain": [
       "                   Error rate  Sensitivity  Specificity    AUC  Precision\n",
       "Naive Bayes             0.055        0.851        0.965  0.979      0.837\n",
       "Logistic L1             0.054        0.808        0.975  0.978      0.872\n",
       "Logistic L2             0.052        0.793        0.980  0.981      0.893\n",
       "Random Forest           0.080        0.688        0.969  0.942      0.822\n",
       "Gradient Boosting       0.050        0.802        0.981  0.978      0.899\n",
       "AdaBoost                0.109        0.487        0.976  0.803      0.807\n",
       "Linear SVC              0.051        0.804        0.980  0.977      0.894\n",
       "Hard Voting             0.048        0.817        0.980  0.000      0.896\n",
       "Soft Voting             0.046        0.830        0.981  0.983      0.900\n",
       "Stack                   0.047        0.836        0.978  0.984      0.888"
      ]
     },
     "execution_count": 23,
     "metadata": {},
     "output_type": "execute_result"
    }
   ],
   "source": [
    "columns=['Error rate', 'Sensitivity', 'Specificity', 'AUC', 'Precision']\n",
    "rows=['Naive Bayes', 'Logistic L1', 'Logistic L2', 'Random Forest', \n",
    "      'Gradient Boosting', 'AdaBoost', 'Linear SVC', 'Hard Voting', 'Soft Voting', 'Stack']\n",
    "\n",
    "results=pd.DataFrame(0.0, columns=columns, index=rows) \n",
    "\n",
    "methods=[nbc, logit_l1, logit_l2, rf, gb, adaboost, svm, vhard, vsoft, stack]\n",
    "\n",
    "y_prob = np.zeros((len(test), len(rows)))\n",
    "\n",
    "for i, method in enumerate(methods):\n",
    "    \n",
    "    if method != stack:\n",
    "        y_pred = method.predict(X_test)\n",
    "    else:\n",
    "        y_pred = method.predict(X_test.todense()) \n",
    "   \n",
    "    if method not in [svm, vhard, stack]: # svm and vhard do not predict probabilities\n",
    "            y_prob[:, i] = method.predict_proba(X_test)[:,1]\n",
    "            results.iloc[i,3]=  roc_auc_score(y_test, y_prob[:,i])   \n",
    "    elif method == svm:\n",
    "        y_df = method.decision_function(X_test)\n",
    "        results.iloc[i,3]=  roc_auc_score(y_test, y_df)  \n",
    "    elif method == stack: \n",
    "        y_prob[:, i] = method.predict_proba(X_test.todense())[:,1]\n",
    "        results.iloc[i,3]=  roc_auc_score(y_test, y_prob[:,i])\n",
    "\n",
    "    confusion  = confusion_matrix(y_test, y_pred) \n",
    "    results.iloc[i,0]=  1 - accuracy_score(y_test, y_pred)\n",
    "    results.iloc[i,1]=  confusion[1,1]/np.sum(confusion[1,:])\n",
    "    results.iloc[i,2]=  confusion[0,0]/np.sum(confusion[0,:])\n",
    "    results.iloc[i,4]=  precision_score(y_test, y_pred)\n",
    "\n",
    "results.round(3)"
   ]
  }
 ],
 "metadata": {
  "kernelspec": {
   "display_name": "Python 3",
   "language": "python",
   "name": "python3"
  },
  "language_info": {
   "codemirror_mode": {
    "name": "ipython",
    "version": 3
   },
   "file_extension": ".py",
   "mimetype": "text/x-python",
   "name": "python",
   "nbconvert_exporter": "python",
   "pygments_lexer": "ipython3",
   "version": "3.6.3"
  }
 },
 "nbformat": 4,
 "nbformat_minor": 2
}
