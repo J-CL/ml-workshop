{
 "cells": [
  {
   "cell_type": "markdown",
   "metadata": {},
   "source": [
    "<center><img src=\"http://sydney.edu.au/images/content/about/logo-mono.jpg\"></center>\n",
    "\n",
    "<center><h1>Machine Learning Using Python (MEAFA Workshop)</h1></center>\n",
    "<center><h2>Lesson 1: Introduction to Machine Learning</h2></center>\n",
    "<br>\n",
    "\n",
    "In this tutorial we will use the linear regression and K-nearest neigbours regression methods to illustrate key steps of a  machine learning project: splitting a dataset into training and test sets, estimating, tuning and selecting models, making predictions,and evaluating generalisation performance. We will also illustrate oither important practical aspects of modelling, such as using exploratory data analysis.\n",
    "\n",
    "\n",
    "<a href=\"#Credit-Card-Data\">Credit Card Data</a> <br>\n",
    "<a href=\"#Training-and-Test-Sets\">Training and Test Sets</a> <br>\n",
    "<a href=\"#Exploratory-Data-Analysis\">Exploratory Data Analysis</a> <br>\n",
    "<a href=\"#Data-Preparation\">Data Preparation</a> <br>\n",
    "<a href=\"#Linear-Regression\">Linear Regression</a> <br>\n",
    "<a href=\"#K-Nearest-Neighbours-Regression\">K-Nearest Neighbours Regression</a> <br>\n",
    "<a href=\"#Model-Tuning-and-Selection-with-Cross-Validation\">Model Tuning and Selection</a> <br>\n",
    "<a href=\"#Model-Evaluation\">Model Evaluation</a> <br>\n",
    "\n",
    "\n",
    "This notebook relies on the following imports and setting. We will load new functions and libraries in context to make clear what we are using them for. "
   ]
  },
  {
   "cell_type": "code",
   "execution_count": 1,
   "metadata": {},
   "outputs": [],
   "source": [
    "# Packages\n",
    "import numpy as np\n",
    "from scipy import stats\n",
    "import pandas as pd\n",
    "import matplotlib.pyplot as plt\n",
    "import seaborn as sns\n",
    "import warnings\n",
    "warnings.filterwarnings('ignore') # this is to clear the warnings from this page, usually we should leave them on"
   ]
  },
  {
   "cell_type": "code",
   "execution_count": 2,
   "metadata": {},
   "outputs": [],
   "source": [
    "# Plot settings\n",
    "sns.set_context('notebook') # optimise figures for notebook display\n",
    "sns.set_style('ticks') # set default plot style\n",
    "palette1 = ['#1F77B4', '#FF7F0E', '#2CA02C', '#DB2728', '#9467BD', '#8C564B', '#E377C2','#7F7F7F', '#BCBD22', '#17BECF']\n",
    "palette2 = ['#4E79A7','#F28E2C','#E15759','#76B7B2','#59A14F', '#EDC949','#AF7AA1','#FF9DA7','#9C755F','#BAB0AB']\n",
    "sns.set_palette(palette1) # set custom color scheme\n",
    "%matplotlib inline\n",
    "plt.rcParams['figure.figsize'] = (9, 6)"
   ]
  },
  {
   "cell_type": "markdown",
   "metadata": {},
   "source": [
    "##Credit Card Data\n",
    "\n",
    "In this lesson we will use the <TT>Credit</TT> dataset taken from the  <a href=\"http://www-bcf.usc.edu/~gareth/ISL/index.html\" target=\"_blank\">Introduction to Statistical Learning</a> texbook by James, Witten, Hastie and Tibshirani. The dataset records the average credit card balace at end of the month for customers of a financial services company, as well as other individual characteristics such age, education, gender, marital status, number of cards, and credit rating.\n",
    "\n",
    "**Business objective**: To predict the average monthly credit card balance of customers based on individual characteristics.  \n",
    "\n",
    "We start by loading the data. First, we need to load the pandas package. Since the dataset is in the <TT>csv</TT> format, we use the <a href=\"http://pandas.pydata.org/pandas-docs/stable/generated/pandas.read_csv.html\" target=\"_blank\"><TT>read_csv</TT></a> function to import the file. The package will automatically read the column names and infer the variable types.  We assign the data variable to a variable called *data*, which will store the dataset as an object called a <TT>DataFrame</TT>."
   ]
  },
  {
   "cell_type": "code",
   "execution_count": 3,
   "metadata": {},
   "outputs": [
    {
     "data": {
      "text/html": [
       "<div>\n",
       "<style>\n",
       "    .dataframe thead tr:only-child th {\n",
       "        text-align: right;\n",
       "    }\n",
       "\n",
       "    .dataframe thead th {\n",
       "        text-align: left;\n",
       "    }\n",
       "\n",
       "    .dataframe tbody tr th {\n",
       "        vertical-align: top;\n",
       "    }\n",
       "</style>\n",
       "<table border=\"1\" class=\"dataframe\">\n",
       "  <thead>\n",
       "    <tr style=\"text-align: right;\">\n",
       "      <th></th>\n",
       "      <th>Income</th>\n",
       "      <th>Limit</th>\n",
       "      <th>Rating</th>\n",
       "      <th>Cards</th>\n",
       "      <th>Age</th>\n",
       "      <th>Education</th>\n",
       "      <th>Gender</th>\n",
       "      <th>Student</th>\n",
       "      <th>Married</th>\n",
       "      <th>Ethnicity</th>\n",
       "      <th>Balance</th>\n",
       "    </tr>\n",
       "    <tr>\n",
       "      <th>Obs</th>\n",
       "      <th></th>\n",
       "      <th></th>\n",
       "      <th></th>\n",
       "      <th></th>\n",
       "      <th></th>\n",
       "      <th></th>\n",
       "      <th></th>\n",
       "      <th></th>\n",
       "      <th></th>\n",
       "      <th></th>\n",
       "      <th></th>\n",
       "    </tr>\n",
       "  </thead>\n",
       "  <tbody>\n",
       "    <tr>\n",
       "      <th>1</th>\n",
       "      <td>14.891</td>\n",
       "      <td>3606</td>\n",
       "      <td>283</td>\n",
       "      <td>2</td>\n",
       "      <td>34</td>\n",
       "      <td>11</td>\n",
       "      <td>Male</td>\n",
       "      <td>No</td>\n",
       "      <td>Yes</td>\n",
       "      <td>Caucasian</td>\n",
       "      <td>333</td>\n",
       "    </tr>\n",
       "    <tr>\n",
       "      <th>2</th>\n",
       "      <td>106.025</td>\n",
       "      <td>6645</td>\n",
       "      <td>483</td>\n",
       "      <td>3</td>\n",
       "      <td>82</td>\n",
       "      <td>15</td>\n",
       "      <td>Female</td>\n",
       "      <td>Yes</td>\n",
       "      <td>Yes</td>\n",
       "      <td>Asian</td>\n",
       "      <td>903</td>\n",
       "    </tr>\n",
       "    <tr>\n",
       "      <th>3</th>\n",
       "      <td>104.593</td>\n",
       "      <td>7075</td>\n",
       "      <td>514</td>\n",
       "      <td>4</td>\n",
       "      <td>71</td>\n",
       "      <td>11</td>\n",
       "      <td>Male</td>\n",
       "      <td>No</td>\n",
       "      <td>No</td>\n",
       "      <td>Asian</td>\n",
       "      <td>580</td>\n",
       "    </tr>\n",
       "    <tr>\n",
       "      <th>4</th>\n",
       "      <td>148.924</td>\n",
       "      <td>9504</td>\n",
       "      <td>681</td>\n",
       "      <td>3</td>\n",
       "      <td>36</td>\n",
       "      <td>11</td>\n",
       "      <td>Female</td>\n",
       "      <td>No</td>\n",
       "      <td>No</td>\n",
       "      <td>Asian</td>\n",
       "      <td>964</td>\n",
       "    </tr>\n",
       "    <tr>\n",
       "      <th>5</th>\n",
       "      <td>55.882</td>\n",
       "      <td>4897</td>\n",
       "      <td>357</td>\n",
       "      <td>2</td>\n",
       "      <td>68</td>\n",
       "      <td>16</td>\n",
       "      <td>Male</td>\n",
       "      <td>No</td>\n",
       "      <td>Yes</td>\n",
       "      <td>Caucasian</td>\n",
       "      <td>331</td>\n",
       "    </tr>\n",
       "    <tr>\n",
       "      <th>6</th>\n",
       "      <td>80.180</td>\n",
       "      <td>8047</td>\n",
       "      <td>569</td>\n",
       "      <td>4</td>\n",
       "      <td>77</td>\n",
       "      <td>10</td>\n",
       "      <td>Male</td>\n",
       "      <td>No</td>\n",
       "      <td>No</td>\n",
       "      <td>Caucasian</td>\n",
       "      <td>1151</td>\n",
       "    </tr>\n",
       "    <tr>\n",
       "      <th>7</th>\n",
       "      <td>20.996</td>\n",
       "      <td>3388</td>\n",
       "      <td>259</td>\n",
       "      <td>2</td>\n",
       "      <td>37</td>\n",
       "      <td>12</td>\n",
       "      <td>Female</td>\n",
       "      <td>No</td>\n",
       "      <td>No</td>\n",
       "      <td>African American</td>\n",
       "      <td>203</td>\n",
       "    </tr>\n",
       "    <tr>\n",
       "      <th>8</th>\n",
       "      <td>71.408</td>\n",
       "      <td>7114</td>\n",
       "      <td>512</td>\n",
       "      <td>2</td>\n",
       "      <td>87</td>\n",
       "      <td>9</td>\n",
       "      <td>Male</td>\n",
       "      <td>No</td>\n",
       "      <td>No</td>\n",
       "      <td>Asian</td>\n",
       "      <td>872</td>\n",
       "    </tr>\n",
       "    <tr>\n",
       "      <th>9</th>\n",
       "      <td>15.125</td>\n",
       "      <td>3300</td>\n",
       "      <td>266</td>\n",
       "      <td>5</td>\n",
       "      <td>66</td>\n",
       "      <td>13</td>\n",
       "      <td>Female</td>\n",
       "      <td>No</td>\n",
       "      <td>No</td>\n",
       "      <td>Caucasian</td>\n",
       "      <td>279</td>\n",
       "    </tr>\n",
       "    <tr>\n",
       "      <th>10</th>\n",
       "      <td>71.061</td>\n",
       "      <td>6819</td>\n",
       "      <td>491</td>\n",
       "      <td>3</td>\n",
       "      <td>41</td>\n",
       "      <td>19</td>\n",
       "      <td>Female</td>\n",
       "      <td>Yes</td>\n",
       "      <td>Yes</td>\n",
       "      <td>African American</td>\n",
       "      <td>1350</td>\n",
       "    </tr>\n",
       "  </tbody>\n",
       "</table>\n",
       "</div>"
      ],
      "text/plain": [
       "      Income  Limit  Rating  Cards  Age  Education  Gender Student Married  \\\n",
       "Obs                                                                          \n",
       "1     14.891   3606     283      2   34         11    Male      No     Yes   \n",
       "2    106.025   6645     483      3   82         15  Female     Yes     Yes   \n",
       "3    104.593   7075     514      4   71         11    Male      No      No   \n",
       "4    148.924   9504     681      3   36         11  Female      No      No   \n",
       "5     55.882   4897     357      2   68         16    Male      No     Yes   \n",
       "6     80.180   8047     569      4   77         10    Male      No      No   \n",
       "7     20.996   3388     259      2   37         12  Female      No      No   \n",
       "8     71.408   7114     512      2   87          9    Male      No      No   \n",
       "9     15.125   3300     266      5   66         13  Female      No      No   \n",
       "10    71.061   6819     491      3   41         19  Female     Yes     Yes   \n",
       "\n",
       "            Ethnicity  Balance  \n",
       "Obs                             \n",
       "1           Caucasian      333  \n",
       "2               Asian      903  \n",
       "3               Asian      580  \n",
       "4               Asian      964  \n",
       "5           Caucasian      331  \n",
       "6           Caucasian     1151  \n",
       "7    African American      203  \n",
       "8               Asian      872  \n",
       "9           Caucasian      279  \n",
       "10   African American     1350  "
      ]
     },
     "execution_count": 3,
     "metadata": {},
     "output_type": "execute_result"
    }
   ],
   "source": [
    "# We will always assume that the data file is in a subdirectory called \"Datasets\"\n",
    "\n",
    "data=pd.read_csv('Datasets/Credit.csv', index_col='Obs')\n",
    "data.head(10)"
   ]
  },
  {
   "cell_type": "markdown",
   "metadata": {},
   "source": [
    "##Training and Test Sets\n",
    "\n",
    "We use the Scikit-Learn <a href=\"http://scikit-learn.org/stable/modules/generated/sklearn.model_selection.train_test_split.html\" target=\"_blank\"><TT>train_test_split</TT></a> method to split the data into training and test sets. \n",
    "\n",
    "Below, we specify that the training set will contain 70% of the data. The random state parameter is an arbitrary number. Specifiying means that by setting this random state, we willget the same training and test sets if we run the analysis again, even though the split is random. "
   ]
  },
  {
   "cell_type": "code",
   "execution_count": 4,
   "metadata": {},
   "outputs": [],
   "source": [
    "from sklearn.model_selection import train_test_split\n",
    "\n",
    "# Randomly split indexes\n",
    "index_train, index_test  = train_test_split(np.array(data.index), train_size=0.7, random_state=10)\n",
    "\n",
    "# Write training and test sets \n",
    "train = data.loc[index_train,:].copy()\n",
    "test =  data.loc[index_test,:].copy()"
   ]
  },
  {
   "cell_type": "markdown",
   "metadata": {},
   "source": [
    "##Exploratory data analysis\n",
    "\n",
    "Exploratory data analysis (EDA) is the process of discovering features and patterns in the data that should inform the modelling process and in some cases prevent errors. Here, we conduct a short EDA of the dataset. Remember that we should use only the training set for this purpose. \n",
    "\n",
    "We start by computing the descriptive statistics and pairwise correlations for the numerical variables (we will discuss categorial predictors next week). When displaying the results, we chain a command to round the results to two decimal place to facilitate visual inspection.\n",
    "\n",
    "The count row in the first table shows the number available observations for each variable. In this case all variables have the same count, reassuring us that there are no missing values.  The response has a large standard deviation (470) relative to the mean (504): we should keep the magnitudes in mind when discussing coefficient sizes and prediction errors.  The first quartile of the response is zero, indicating that substantial fraction of the credit card customers have zero or low balance. "
   ]
  },
  {
   "cell_type": "code",
   "execution_count": 5,
   "metadata": {},
   "outputs": [
    {
     "name": "stdout",
     "output_type": "stream",
     "text": [
      "280\n"
     ]
    },
    {
     "data": {
      "text/html": [
       "<div>\n",
       "<style>\n",
       "    .dataframe thead tr:only-child th {\n",
       "        text-align: right;\n",
       "    }\n",
       "\n",
       "    .dataframe thead th {\n",
       "        text-align: left;\n",
       "    }\n",
       "\n",
       "    .dataframe tbody tr th {\n",
       "        vertical-align: top;\n",
       "    }\n",
       "</style>\n",
       "<table border=\"1\" class=\"dataframe\">\n",
       "  <thead>\n",
       "    <tr style=\"text-align: right;\">\n",
       "      <th></th>\n",
       "      <th>Income</th>\n",
       "      <th>Limit</th>\n",
       "      <th>Rating</th>\n",
       "      <th>Cards</th>\n",
       "      <th>Age</th>\n",
       "      <th>Education</th>\n",
       "      <th>Balance</th>\n",
       "    </tr>\n",
       "  </thead>\n",
       "  <tbody>\n",
       "    <tr>\n",
       "      <th>count</th>\n",
       "      <td>280.0</td>\n",
       "      <td>280.0</td>\n",
       "      <td>280.0</td>\n",
       "      <td>280.0</td>\n",
       "      <td>280.0</td>\n",
       "      <td>280.0</td>\n",
       "      <td>280.0</td>\n",
       "    </tr>\n",
       "    <tr>\n",
       "      <th>mean</th>\n",
       "      <td>44.6</td>\n",
       "      <td>4731.4</td>\n",
       "      <td>354.5</td>\n",
       "      <td>2.9</td>\n",
       "      <td>55.3</td>\n",
       "      <td>13.4</td>\n",
       "      <td>521.1</td>\n",
       "    </tr>\n",
       "    <tr>\n",
       "      <th>std</th>\n",
       "      <td>34.8</td>\n",
       "      <td>2343.7</td>\n",
       "      <td>156.6</td>\n",
       "      <td>1.3</td>\n",
       "      <td>17.3</td>\n",
       "      <td>3.2</td>\n",
       "      <td>458.2</td>\n",
       "    </tr>\n",
       "    <tr>\n",
       "      <th>min</th>\n",
       "      <td>10.4</td>\n",
       "      <td>855.0</td>\n",
       "      <td>93.0</td>\n",
       "      <td>1.0</td>\n",
       "      <td>23.0</td>\n",
       "      <td>5.0</td>\n",
       "      <td>0.0</td>\n",
       "    </tr>\n",
       "    <tr>\n",
       "      <th>25%</th>\n",
       "      <td>19.7</td>\n",
       "      <td>3082.5</td>\n",
       "      <td>247.2</td>\n",
       "      <td>2.0</td>\n",
       "      <td>41.0</td>\n",
       "      <td>11.0</td>\n",
       "      <td>64.0</td>\n",
       "    </tr>\n",
       "    <tr>\n",
       "      <th>50%</th>\n",
       "      <td>33.0</td>\n",
       "      <td>4636.0</td>\n",
       "      <td>344.0</td>\n",
       "      <td>3.0</td>\n",
       "      <td>54.0</td>\n",
       "      <td>14.0</td>\n",
       "      <td>459.5</td>\n",
       "    </tr>\n",
       "    <tr>\n",
       "      <th>75%</th>\n",
       "      <td>57.5</td>\n",
       "      <td>6034.8</td>\n",
       "      <td>443.5</td>\n",
       "      <td>4.0</td>\n",
       "      <td>69.0</td>\n",
       "      <td>16.0</td>\n",
       "      <td>864.2</td>\n",
       "    </tr>\n",
       "    <tr>\n",
       "      <th>max</th>\n",
       "      <td>186.6</td>\n",
       "      <td>13913.0</td>\n",
       "      <td>982.0</td>\n",
       "      <td>9.0</td>\n",
       "      <td>98.0</td>\n",
       "      <td>20.0</td>\n",
       "      <td>1999.0</td>\n",
       "    </tr>\n",
       "  </tbody>\n",
       "</table>\n",
       "</div>"
      ],
      "text/plain": [
       "       Income    Limit  Rating  Cards    Age  Education  Balance\n",
       "count   280.0    280.0   280.0  280.0  280.0      280.0    280.0\n",
       "mean     44.6   4731.4   354.5    2.9   55.3       13.4    521.1\n",
       "std      34.8   2343.7   156.6    1.3   17.3        3.2    458.2\n",
       "min      10.4    855.0    93.0    1.0   23.0        5.0      0.0\n",
       "25%      19.7   3082.5   247.2    2.0   41.0       11.0     64.0\n",
       "50%      33.0   4636.0   344.0    3.0   54.0       14.0    459.5\n",
       "75%      57.5   6034.8   443.5    4.0   69.0       16.0    864.2\n",
       "max     186.6  13913.0   982.0    9.0   98.0       20.0   1999.0"
      ]
     },
     "execution_count": 5,
     "metadata": {},
     "output_type": "execute_result"
    }
   ],
   "source": [
    "print(len(train)) #  number of observations in the training data frame\n",
    "train.describe().round(1) # rounding the table to one decimal digit"
   ]
  },
  {
   "cell_type": "markdown",
   "metadata": {},
   "source": [
    "The pairwise correlations reveal that the predictors that are most correlated with the response are limit, rating, and income. The remaining predictors have very low correlation with credit card balances. Another important finding is that limit and rating have nearly perfect positive correlation and are therefore redudant predictors (using both in regression analysis would lead to collinearity problems). Also note that income is highly correlated with limit and rating. Limit seems to be the key linear predictor in data. "
   ]
  },
  {
   "cell_type": "code",
   "execution_count": 6,
   "metadata": {},
   "outputs": [
    {
     "data": {
      "text/html": [
       "<div>\n",
       "<style>\n",
       "    .dataframe thead tr:only-child th {\n",
       "        text-align: right;\n",
       "    }\n",
       "\n",
       "    .dataframe thead th {\n",
       "        text-align: left;\n",
       "    }\n",
       "\n",
       "    .dataframe tbody tr th {\n",
       "        vertical-align: top;\n",
       "    }\n",
       "</style>\n",
       "<table border=\"1\" class=\"dataframe\">\n",
       "  <thead>\n",
       "    <tr style=\"text-align: right;\">\n",
       "      <th></th>\n",
       "      <th>Income</th>\n",
       "      <th>Limit</th>\n",
       "      <th>Rating</th>\n",
       "      <th>Cards</th>\n",
       "      <th>Age</th>\n",
       "      <th>Education</th>\n",
       "      <th>Balance</th>\n",
       "    </tr>\n",
       "  </thead>\n",
       "  <tbody>\n",
       "    <tr>\n",
       "      <th>Income</th>\n",
       "      <td>1.00</td>\n",
       "      <td>0.80</td>\n",
       "      <td>0.80</td>\n",
       "      <td>-0.01</td>\n",
       "      <td>0.17</td>\n",
       "      <td>0.02</td>\n",
       "      <td>0.49</td>\n",
       "    </tr>\n",
       "    <tr>\n",
       "      <th>Limit</th>\n",
       "      <td>0.80</td>\n",
       "      <td>1.00</td>\n",
       "      <td>1.00</td>\n",
       "      <td>-0.01</td>\n",
       "      <td>0.10</td>\n",
       "      <td>0.00</td>\n",
       "      <td>0.87</td>\n",
       "    </tr>\n",
       "    <tr>\n",
       "      <th>Rating</th>\n",
       "      <td>0.80</td>\n",
       "      <td>1.00</td>\n",
       "      <td>1.00</td>\n",
       "      <td>0.03</td>\n",
       "      <td>0.10</td>\n",
       "      <td>-0.01</td>\n",
       "      <td>0.88</td>\n",
       "    </tr>\n",
       "    <tr>\n",
       "      <th>Cards</th>\n",
       "      <td>-0.01</td>\n",
       "      <td>-0.01</td>\n",
       "      <td>0.03</td>\n",
       "      <td>1.00</td>\n",
       "      <td>0.11</td>\n",
       "      <td>-0.11</td>\n",
       "      <td>0.04</td>\n",
       "    </tr>\n",
       "    <tr>\n",
       "      <th>Age</th>\n",
       "      <td>0.17</td>\n",
       "      <td>0.10</td>\n",
       "      <td>0.10</td>\n",
       "      <td>0.11</td>\n",
       "      <td>1.00</td>\n",
       "      <td>-0.05</td>\n",
       "      <td>0.02</td>\n",
       "    </tr>\n",
       "    <tr>\n",
       "      <th>Education</th>\n",
       "      <td>0.02</td>\n",
       "      <td>0.00</td>\n",
       "      <td>-0.01</td>\n",
       "      <td>-0.11</td>\n",
       "      <td>-0.05</td>\n",
       "      <td>1.00</td>\n",
       "      <td>0.01</td>\n",
       "    </tr>\n",
       "    <tr>\n",
       "      <th>Balance</th>\n",
       "      <td>0.49</td>\n",
       "      <td>0.87</td>\n",
       "      <td>0.88</td>\n",
       "      <td>0.04</td>\n",
       "      <td>0.02</td>\n",
       "      <td>0.01</td>\n",
       "      <td>1.00</td>\n",
       "    </tr>\n",
       "  </tbody>\n",
       "</table>\n",
       "</div>"
      ],
      "text/plain": [
       "           Income  Limit  Rating  Cards   Age  Education  Balance\n",
       "Income       1.00   0.80    0.80  -0.01  0.17       0.02     0.49\n",
       "Limit        0.80   1.00    1.00  -0.01  0.10       0.00     0.87\n",
       "Rating       0.80   1.00    1.00   0.03  0.10      -0.01     0.88\n",
       "Cards       -0.01  -0.01    0.03   1.00  0.11      -0.11     0.04\n",
       "Age          0.17   0.10    0.10   0.11  1.00      -0.05     0.02\n",
       "Education    0.02   0.00   -0.01  -0.11 -0.05       1.00     0.01\n",
       "Balance      0.49   0.87    0.88   0.04  0.02       0.01     1.00"
      ]
     },
     "execution_count": 6,
     "metadata": {},
     "output_type": "execute_result"
    }
   ],
   "source": [
    "train.corr().round(2)"
   ]
  },
  {
   "cell_type": "markdown",
   "metadata": {},
   "source": [
    "We now investigate the (unconditional) distribution of the response by plotting a histogram. We find that the response has a pronouncedly right skewed distribution. A substantial number of customers has zero (as confirmed in the following cell) or low credit card balance. "
   ]
  },
  {
   "cell_type": "code",
   "execution_count": 7,
   "metadata": {},
   "outputs": [
    {
     "data": {
      "image/png": "[encoded data removed]",
      "text/plain": [
       "<matplotlib.figure.Figure at 0x27e8a015438>"
      ]
     },
     "metadata": {},
     "output_type": "display_data"
    }
   ],
   "source": [
    "fig, ax = plt.subplots()\n",
    "sns.distplot(train['Balance'], ax=ax, hist_kws={'alpha': 0.9, 'edgecolor':'black'},\n",
    "             kde_kws={'color': 'black', 'alpha': 0.7})\n",
    "ax.set_title('Distribution plot for customer credit card balance')\n",
    "sns.despine()\n",
    "plt.show()"
   ]
  },
  {
   "cell_type": "markdown",
   "metadata": {},
   "source": [
    "A scatter plot of credit limit with credit balance reveals that there is a nonlinear relatioship between these two variables. Furtheremore, there are several clients with a response value of zero, which is likely to affect model fit."
   ]
  },
  {
   "cell_type": "code",
   "execution_count": 8,
   "metadata": {},
   "outputs": [
    {
     "data": {
      "image/png": "[encoded data removed]",
      "text/plain": [
       "<matplotlib.figure.Figure at 0x27e8a26ba58>"
      ]
     },
     "metadata": {},
     "output_type": "display_data"
    }
   ],
   "source": [
    "fig, ax = plt.subplots(figsize=(8,5.5))\n",
    "plt.scatter(train['Limit'], train['Balance'], s=25) # the s option is the size of the dot\n",
    "ax.set_xlabel('Credit card limit')\n",
    "ax.set_ylabel('Balance')\n",
    "sns.despine()\n",
    "plt.show()"
   ]
  },
  {
   "cell_type": "markdown",
   "metadata": {},
   "source": [
    "The next cell illustrates how we can create a figure to explore the relationship between a discrete variables with not too many distinct values and the response. "
   ]
  },
  {
   "cell_type": "code",
   "execution_count": 9,
   "metadata": {},
   "outputs": [
    {
     "data": {
      "image/png": "[encoded data removed]",
      "text/plain": [
       "<matplotlib.figure.Figure at 0x27e87410588>"
      ]
     },
     "metadata": {},
     "output_type": "display_data"
    }
   ],
   "source": [
    "rows=train['Cards']<=7 # too few observations for more than 7 cards\n",
    "sns.boxplot(x=train.loc[rows,'Cards'], y=train.loc[rows,'Balance'], palette='Blues')\n",
    "sns.despine()\n",
    "plt.show()"
   ]
  },
  {
   "cell_type": "markdown",
   "metadata": {},
   "source": [
    "##Data Preparation\n",
    "\n",
    "In most cases, we need to performance additional processing to get the data ready for training machine learning models and computing predictions. It is good practice to write a function for this step, for several reasons: \n",
    "\n",
    "* It allows you to easily reproduce the data processing steps.\n",
    "* It helps you to build a library of data processing steps, which can save you a lot of time in the future. \n",
    "* You can use the function to continuously process new data in a live system.\n",
    "* This makes it simple for you to try different data tranformations. "
   ]
  },
  {
   "cell_type": "code",
   "execution_count": 10,
   "metadata": {},
   "outputs": [
    {
     "data": {
      "text/html": [
       "<div>\n",
       "<style>\n",
       "    .dataframe thead tr:only-child th {\n",
       "        text-align: right;\n",
       "    }\n",
       "\n",
       "    .dataframe thead th {\n",
       "        text-align: left;\n",
       "    }\n",
       "\n",
       "    .dataframe tbody tr th {\n",
       "        vertical-align: top;\n",
       "    }\n",
       "</style>\n",
       "<table border=\"1\" class=\"dataframe\">\n",
       "  <thead>\n",
       "    <tr style=\"text-align: right;\">\n",
       "      <th></th>\n",
       "      <th>Income</th>\n",
       "      <th>Limit</th>\n",
       "      <th>Rating</th>\n",
       "      <th>Cards</th>\n",
       "      <th>Age</th>\n",
       "      <th>Education</th>\n",
       "      <th>Student</th>\n",
       "      <th>Married</th>\n",
       "      <th>Balance</th>\n",
       "      <th>Male</th>\n",
       "      <th>Caucasian</th>\n",
       "      <th>Asian</th>\n",
       "    </tr>\n",
       "    <tr>\n",
       "      <th>Obs</th>\n",
       "      <th></th>\n",
       "      <th></th>\n",
       "      <th></th>\n",
       "      <th></th>\n",
       "      <th></th>\n",
       "      <th></th>\n",
       "      <th></th>\n",
       "      <th></th>\n",
       "      <th></th>\n",
       "      <th></th>\n",
       "      <th></th>\n",
       "      <th></th>\n",
       "    </tr>\n",
       "  </thead>\n",
       "  <tbody>\n",
       "    <tr>\n",
       "      <th>400</th>\n",
       "      <td>18.701</td>\n",
       "      <td>5524</td>\n",
       "      <td>415</td>\n",
       "      <td>5</td>\n",
       "      <td>64</td>\n",
       "      <td>7</td>\n",
       "      <td>0</td>\n",
       "      <td>0</td>\n",
       "      <td>966</td>\n",
       "      <td>0</td>\n",
       "      <td>0</td>\n",
       "      <td>1</td>\n",
       "    </tr>\n",
       "    <tr>\n",
       "      <th>26</th>\n",
       "      <td>14.090</td>\n",
       "      <td>4323</td>\n",
       "      <td>326</td>\n",
       "      <td>5</td>\n",
       "      <td>25</td>\n",
       "      <td>16</td>\n",
       "      <td>0</td>\n",
       "      <td>1</td>\n",
       "      <td>671</td>\n",
       "      <td>0</td>\n",
       "      <td>0</td>\n",
       "      <td>0</td>\n",
       "    </tr>\n",
       "    <tr>\n",
       "      <th>280</th>\n",
       "      <td>54.319</td>\n",
       "      <td>3063</td>\n",
       "      <td>248</td>\n",
       "      <td>3</td>\n",
       "      <td>59</td>\n",
       "      <td>8</td>\n",
       "      <td>1</td>\n",
       "      <td>0</td>\n",
       "      <td>269</td>\n",
       "      <td>0</td>\n",
       "      <td>1</td>\n",
       "      <td>0</td>\n",
       "    </tr>\n",
       "    <tr>\n",
       "      <th>261</th>\n",
       "      <td>67.937</td>\n",
       "      <td>5184</td>\n",
       "      <td>383</td>\n",
       "      <td>4</td>\n",
       "      <td>63</td>\n",
       "      <td>12</td>\n",
       "      <td>0</td>\n",
       "      <td>1</td>\n",
       "      <td>345</td>\n",
       "      <td>1</td>\n",
       "      <td>0</td>\n",
       "      <td>1</td>\n",
       "    </tr>\n",
       "    <tr>\n",
       "      <th>131</th>\n",
       "      <td>23.793</td>\n",
       "      <td>3821</td>\n",
       "      <td>281</td>\n",
       "      <td>4</td>\n",
       "      <td>56</td>\n",
       "      <td>12</td>\n",
       "      <td>1</td>\n",
       "      <td>1</td>\n",
       "      <td>868</td>\n",
       "      <td>0</td>\n",
       "      <td>0</td>\n",
       "      <td>0</td>\n",
       "    </tr>\n",
       "  </tbody>\n",
       "</table>\n",
       "</div>"
      ],
      "text/plain": [
       "     Income  Limit  Rating  Cards  Age  Education  Student  Married  Balance  \\\n",
       "Obs                                                                            \n",
       "400  18.701   5524     415      5   64          7        0        0      966   \n",
       "26   14.090   4323     326      5   25         16        0        1      671   \n",
       "280  54.319   3063     248      3   59          8        1        0      269   \n",
       "261  67.937   5184     383      4   63         12        0        1      345   \n",
       "131  23.793   3821     281      4   56         12        1        1      868   \n",
       "\n",
       "     Male  Caucasian  Asian  \n",
       "Obs                          \n",
       "400     0          0      1  \n",
       "26      0          0      0  \n",
       "280     0          1      0  \n",
       "261     1          0      1  \n",
       "131     0          0      0  "
      ]
     },
     "execution_count": 10,
     "metadata": {},
     "output_type": "execute_result"
    }
   ],
   "source": [
    "def prepare_data(df):\n",
    "    df['Male']=(df['Gender'] ==' Male').astype(int) # create dummy variable for gender\n",
    "    df['Student']=(df['Student'] =='Yes').astype(int)\n",
    "    df['Married']=(df['Married'] =='Yes').astype(int)\n",
    "    df['Caucasian']=(df['Ethnicity'] =='Caucasian').astype(int)\n",
    "    df['Asian']=(df['Ethnicity'] =='Asian').astype(int)\n",
    "    df=df.loc[:, df.dtypes!='object'] # discards the columns that are not numerical\n",
    "    return df\n",
    "\n",
    "train = prepare_data(train)\n",
    "test = prepare_data(test)\n",
    "\n",
    "train.head()"
   ]
  },
  {
   "cell_type": "markdown",
   "metadata": {},
   "source": [
    "Finally, we need to identify and separate the response and the predictors. For illustrative purposes, we use only one predictor in this lesson, the customer's credit card limit. "
   ]
  },
  {
   "cell_type": "code",
   "execution_count": 11,
   "metadata": {},
   "outputs": [],
   "source": [
    "# Construting response vector and design matrix (matrix of predictor values) \n",
    "\n",
    "response = 'Balance'\n",
    "predictors = ['Limit',] # in general we will be working with a list of predictors, even though we only have one here\n",
    "\n",
    "# If we wanted to use all available predictors: \n",
    "# predictors = [variable for variable in train.columns if variable!=response]\n",
    "\n",
    "y_train = train.pop(response) # removes the response column for the train dataframe and copies it to a new variable\n",
    "X_train=train[predictors].copy() # selects the variables in the predictor list\n",
    "\n",
    "y_test = test.pop(response)\n",
    "X_test=test[predictors].copy()"
   ]
  },
  {
   "cell_type": "markdown",
   "metadata": {},
   "source": [
    "##Linear Regression\n",
    "\n",
    "Scikit-Learn allows us to train and use a wide range of machine learning algorithms using a simple syntax structure: \n",
    "\n",
    "1. Import the method.\n",
    "2. Specify the model and options.\n",
    "3. Train the model.\n",
    "4. Use the estimated model to make predictions. \n",
    "\n",
    "We start with a basic method, a linear regression. We use the <a href=\"http://scikit-learn.org/stable/modules/generated/sklearn.linear_model.LinearRegression.html\" target=\"_blank\"><TT>LinearRegression</TT></a> function from the to train the model. "
   ]
  },
  {
   "cell_type": "code",
   "execution_count": 12,
   "metadata": {},
   "outputs": [
    {
     "data": {
      "text/plain": [
       "LinearRegression(copy_X=True, fit_intercept=True, n_jobs=1, normalize=False)"
      ]
     },
     "execution_count": 12,
     "metadata": {},
     "output_type": "execute_result"
    }
   ],
   "source": [
    "from sklearn.linear_model import LinearRegression\n",
    "ols = LinearRegression()\n",
    "ols.fit(X_train, y_train)"
   ]
  },
  {
   "cell_type": "markdown",
   "metadata": {},
   "source": [
    "Suppose that we want to predict the credit card balance of a customer that has a limit of 5000 dollars."
   ]
  },
  {
   "cell_type": "code",
   "execution_count": 13,
   "metadata": {},
   "outputs": [
    {
     "data": {
      "text/plain": [
       "array([ 566.97270565])"
      ]
     },
     "execution_count": 13,
     "metadata": {},
     "output_type": "execute_result"
    }
   ],
   "source": [
    "ols.predict(5000)"
   ]
  },
  {
   "cell_type": "markdown",
   "metadata": {},
   "source": [
    "Let's visualise the trained model. "
   ]
  },
  {
   "cell_type": "code",
   "execution_count": 14,
   "metadata": {},
   "outputs": [
    {
     "data": {
      "image/png": "[encoded data removed]",
      "text/plain": [
       "<matplotlib.figure.Figure at 0x27e8a85f1d0>"
      ]
     },
     "metadata": {},
     "output_type": "display_data"
    }
   ],
   "source": [
    "# Here, we generate a grid of 500 values ranging from the minimum to the maximum value of the variable in the training data\n",
    "x = np.linspace(X_train.min(),X_train.max(), 2).reshape((-1,1))\n",
    "\n",
    "# Compute the predicted values for each of these input points\n",
    "y_pred = ols.predict(x)\n",
    "\n",
    "# Figure\n",
    "fig, ax = plt.subplots()\n",
    "ax.scatter(X_train.values, y_train.values, s=25) # the s option is the size of the dot\n",
    "ax.set_title(\"Linear Regression Fit\")\n",
    "ax.set_xlabel('Credit card limit')\n",
    "ax.set_ylabel('Balance')\n",
    "ax.plot(x, y_pred, color='black', alpha = 0.7)\n",
    "sns.despine()\n",
    "plt.show()"
   ]
  },
  {
   "cell_type": "markdown",
   "metadata": {},
   "source": [
    "##K-Nearest Neighbours\n",
    "\n",
    "The previous figure suggests that the linear regression model may not be satisfactory for this data since the relationship between limit and balance appears to be nonlinear. The <a href=\"http://scikit-learn.org/stable/modules/generated/sklearn.neighbors.KNeighborsRegressor.html\" target=\"_blank\"><TT>K-Nearest Neighbours</TT></a> (KNN) method is a flexible algorithm that can approximate complex relationships between the response and predictors without assuming a particular form for the regression function.\n",
    "    \n",
    "Using the KNN method with Scikit-Learn follows the template from above. Unlike in the linear regression model, however, we need to specify a hyper-parameter, the number of neighbours. "
   ]
  },
  {
   "cell_type": "code",
   "execution_count": 15,
   "metadata": {},
   "outputs": [
    {
     "data": {
      "text/plain": [
       "array([ 566.2])"
      ]
     },
     "execution_count": 15,
     "metadata": {},
     "output_type": "execute_result"
    }
   ],
   "source": [
    "from sklearn.neighbors import KNeighborsRegressor\n",
    "\n",
    "knn = KNeighborsRegressor(n_neighbors=10) # we shoudl specify the number of neighbours\n",
    "knn.fit(X_train, y_train)\n",
    "knn.predict(5000)"
   ]
  },
  {
   "cell_type": "markdown",
   "metadata": {},
   "source": [
    "Let's visualise the relationship fitted by K-Nearest Neighbours algorithm using K=10 neighbours. "
   ]
  },
  {
   "cell_type": "code",
   "execution_count": 16,
   "metadata": {},
   "outputs": [
    {
     "data": {
      "image/png": "[encoded data removed]",
      "text/plain": [
       "<matplotlib.figure.Figure at 0x27e8a85f128>"
      ]
     },
     "metadata": {},
     "output_type": "display_data"
    }
   ],
   "source": [
    "# Generate a grid of 500 values ranging from the minimum to the maximum value of the variable in the training data\n",
    "x = np.linspace(train['Limit'].min(),train['Limit'].max(), 500).reshape((-1,1))\n",
    "\n",
    "# Compute the predicted values for each of these input points\n",
    "y_pred = knn.predict(x)\n",
    "\n",
    "# Plot figure\n",
    "fig, ax = plt.subplots()\n",
    "ax.scatter(X_train.values, y_train.values, s=25) # the s option is the size of the dot\n",
    "ax.set_xlabel('Credit card limit')\n",
    "ax.set_ylabel('Balance')\n",
    "ax.set_xlim(0, 15000)\n",
    "ax.plot(x, y_pred, color='black', alpha = 0.7)\n",
    "sns.despine()\n",
    "plt.show()"
   ]
  },
  {
   "cell_type": "markdown",
   "metadata": {},
   "source": [
    "The K-Nearest Neighbours fit depends strongly on the choice the number of neighbours. Choosing K=2 seems to overfit, while K=50 clearly underfits the training data. "
   ]
  },
  {
   "cell_type": "code",
   "execution_count": 17,
   "metadata": {},
   "outputs": [
    {
     "data": {
      "image/png": "[encoded data removed]",
      "text/plain": [
       "<matplotlib.figure.Figure at 0x27e8a60dfd0>"
      ]
     },
     "metadata": {},
     "output_type": "display_data"
    },
    {
     "data": {
      "image/png": "[encoded data removed]",
      "text/plain": [
       "<matplotlib.figure.Figure at 0x27e8a95dfd0>"
      ]
     },
     "metadata": {},
     "output_type": "display_data"
    }
   ],
   "source": [
    "for K in [2, 50]:\n",
    "    \n",
    "    # Specify and fit model\n",
    "    knn = KNeighborsRegressor(n_neighbors=K) \n",
    "    knn.fit(X_train, y_train)\n",
    "\n",
    "    # Compute the predicted values for each point in the grid\n",
    "    y_pred = knn.predict(x)\n",
    "\n",
    "    # Plot figuer\n",
    "    fig, ax = plt.subplots()\n",
    "    ax.scatter(X_train.values, y_train.values, s=25) \n",
    "    ax.set_title(f'Number of Neighbours = {K}', fontsize=13)\n",
    "    ax.set_xlabel('Credit card limit')\n",
    "    ax.set_ylabel('Balance')\n",
    "    ax.set_xlim(0, 15000)\n",
    "    ax.plot(x, y_pred, color='black', alpha = 0.7)\n",
    "    sns.despine()\n",
    "    plt.show()"
   ]
  },
  {
   "cell_type": "markdown",
   "metadata": {},
   "source": [
    "##Model Tuning and Selection\n",
    "\n",
    "The previous sections leave us with two questions?\n",
    "\n",
    "(a) How many neighbours should we use in the KNN method? \n",
    "\n",
    "(b) Should we use a linear regression or the KNN method as our final model?\n",
    "\n",
    "We use [cross validation](http://scikit-learn.org/stable/modules/cross_validation.html) to estimate the generalisation performance of different model choices. For clarity, we refer to the choice a hyperparameter as tuning, and to the choice of method as model selection, even though both cases are referred to as model selection in statistics.\n",
    "\n",
    "To select the number of neighbours, we need to specify a grid of candidate values and select the specification with best cross validation performance. The Scikit-Learn [<TT>GridSearchCV</TT>](http://scikit-learn.org/stable/modules/generated/sklearn.model_selection.GridSearchCV.html) method conveniently automates this process. We will follow the template below."
   ]
  },
  {
   "cell_type": "code",
   "execution_count": 18,
   "metadata": {},
   "outputs": [
    {
     "data": {
      "text/plain": [
       "GridSearchCV(cv=5, error_score='raise',\n",
       "       estimator=KNeighborsRegressor(algorithm='auto', leaf_size=30, metric='minkowski',\n",
       "          metric_params=None, n_jobs=1, n_neighbors=5, p=2,\n",
       "          weights='uniform'),\n",
       "       fit_params=None, iid=True, n_jobs=4,\n",
       "       param_grid={'n_neighbors': array([ 1,  2,  3,  4,  5,  6,  7,  8,  9, 10, 11, 12, 13, 14, 15, 16, 17,\n",
       "       18, 19, 20, 21, 22, 23, 24, 25, 26, 27, 28, 29, 30, 31, 32, 33, 34,\n",
       "       35, 36, 37, 38, 39, 40, 41, 42, 43, 44, 45, 46, 47, 48, 49, 50])},\n",
       "       pre_dispatch='2*n_jobs', refit=True, return_train_score=False,\n",
       "       scoring='neg_mean_squared_error', verbose=0)"
      ]
     },
     "execution_count": 18,
     "metadata": {},
     "output_type": "execute_result"
    }
   ],
   "source": [
    "from sklearn.model_selection import GridSearchCV\n",
    "\n",
    "model = KNeighborsRegressor() \n",
    "    \n",
    "tuning_parameters = {\n",
    "    'n_neighbors': np.arange(1,51),\n",
    "}\n",
    "\n",
    "knn =  GridSearchCV(model, tuning_parameters, cv=5,  scoring = 'neg_mean_squared_error', return_train_score=False, n_jobs=4)\n",
    "knn.fit(X_train, y_train)\n",
    "\n",
    "# Notes: \n",
    "# cv=5 specifies 5-fold cross-validation\n",
    "# scoring = 'neg_mean_squared_error' specifies the evaluation criterion (redudant here, but useful as a template)\n",
    "# return_train_score=False speeds up the computations by avoiding unnecessary calculations\n",
    "# n_jobs=4 splits the task across four processor cores for greater speed"
   ]
  },
  {
   "cell_type": "markdown",
   "metadata": {},
   "source": [
    "We can access the <TT>best_params_</TT> attribute to view the selected value of the hyperparameter. "
   ]
  },
  {
   "cell_type": "code",
   "execution_count": 19,
   "metadata": {},
   "outputs": [
    {
     "data": {
      "text/plain": [
       "{'n_neighbors': 7}"
      ]
     },
     "execution_count": 19,
     "metadata": {},
     "output_type": "execute_result"
    }
   ],
   "source": [
    "knn.best_params_"
   ]
  },
  {
   "cell_type": "markdown",
   "metadata": {},
   "source": [
    "Performing a full grid search may become too computationally cost when we work with large datasets and/or methods that have multiple tuning hyperparameters. In this case, we can instead use the  [<TT>RandomizedSearchCV</TT>](http://scikit-learn.org/stable/modules/generated/sklearn.model_selection.RandomizedSearchCV.html) function, which evaluates only a random subset of hyperparameter combinations. \n",
    "\n",
    "The syntax is very similar to the above, except that we will often want to specify the <TT>n_iter</TT> option in order to control the computational budget for the hyperparameter seach. Below, we specify that we would like to try twenty values for the number of neighbours. "
   ]
  },
  {
   "cell_type": "code",
   "execution_count": 20,
   "metadata": {},
   "outputs": [
    {
     "data": {
      "text/plain": [
       "{'n_neighbors': 7}"
      ]
     },
     "execution_count": 20,
     "metadata": {},
     "output_type": "execute_result"
    }
   ],
   "source": [
    "from sklearn.model_selection import RandomizedSearchCV\n",
    "\n",
    "model = KNeighborsRegressor() \n",
    "\n",
    "tuning_parameters = {\n",
    "    'n_neighbors': np.arange(1,101),\n",
    "}\n",
    "\n",
    "knn_rs =  RandomizedSearchCV(model, tuning_parameters, cv=5,  n_iter=20, scoring = 'neg_mean_squared_error',\n",
    "                             return_train_score=False, n_jobs=4)\n",
    "knn_rs.fit(X_train, y_train)\n",
    "knn_rs.best_params_ # the result may not be the same as before because of the random search"
   ]
  },
  {
   "cell_type": "markdown",
   "metadata": {},
   "source": [
    "Now, suppose that we want to compute the cross validation score for a given model. The syntax is as follows. "
   ]
  },
  {
   "cell_type": "code",
   "execution_count": 21,
   "metadata": {},
   "outputs": [
    {
     "data": {
      "text/plain": [
       "array([-67849.01093294, -45920.26421283, -45435.79846939, -47949.19387755,\n",
       "       -27784.71537901])"
      ]
     },
     "execution_count": 21,
     "metadata": {},
     "output_type": "execute_result"
    }
   ],
   "source": [
    "knn = KNeighborsRegressor(n_neighbors=7) \n",
    "\n",
    "from sklearn.model_selection import cross_val_score\n",
    "scores = cross_val_score(knn, X_train, y_train, cv=5, scoring = 'neg_mean_squared_error')\n",
    "scores"
   ]
  },
  {
   "cell_type": "markdown",
   "metadata": {},
   "source": [
    "The [<TT>cross_val_score</TT>](http://scikit-learn.org/stable/modules/generated/sklearn.model_selection.cross_val_score.html) function returns the scores for each fold. Below, we average the scores and obtain the cross validation root mean squared error. "
   ]
  },
  {
   "cell_type": "code",
   "execution_count": 22,
   "metadata": {},
   "outputs": [
    {
     "data": {
      "text/plain": [
       "216.7666869570692"
      ]
     },
     "execution_count": 22,
     "metadata": {},
     "output_type": "execute_result"
    }
   ],
   "source": [
    "np.sqrt(-1*np.mean(scores))"
   ]
  },
  {
   "cell_type": "markdown",
   "metadata": {},
   "source": [
    "The scoring in Scikit-Learn follows the convention that higher score values are better than lower values. This is why the argument in the function is the negative mean squared error . The Scikit-Learn [model evaluation](http://scikit-learn.org/stable/modules/model_evaluation.html) documentation provides a list of scoring options. You should save this for future reference.\n",
    "\n",
    "Often, the syntax is simplified by the fact that each method in Scikit-Learn has a default scoring method. In this case you have to consult the documentation to know what it is. For a [KNN regression the default scoring is the r-squared](http://scikit-learn.org/stable/modules/generated/sklearn.neighbors.KNeighborsRegressor.html#sklearn.neighbors.KNeighborsRegressor).\n",
    "\n",
    "We can do as follows to plot the cross validation error as a function of the hyperparameter. "
   ]
  },
  {
   "cell_type": "code",
   "execution_count": 23,
   "metadata": {},
   "outputs": [
    {
     "data": {
      "image/png": "[encoded data removed]",
      "text/plain": [
       "<matplotlib.figure.Figure at 0x27e8a93db38>"
      ]
     },
     "metadata": {},
     "output_type": "display_data"
    },
    {
     "name": "stdout",
     "output_type": "stream",
     "text": [
      "Lowest CV error: K = 7\n"
     ]
    }
   ],
   "source": [
    "neighbours=np.arange(1, 51)\n",
    "\n",
    "cv_rmse = []\n",
    "for k in neighbours: \n",
    "    model = KNeighborsRegressor(n_neighbors= k) \n",
    "    scores = cross_val_score(model, X_train, y_train, cv=5, scoring = 'neg_mean_squared_error')\n",
    "    rmse = np.sqrt(-1*np.mean(scores))\n",
    "    cv_rmse.append(rmse)\n",
    "\n",
    "fig, ax= plt.subplots()\n",
    "ax.plot(neighbours, cv_rmse)\n",
    "ax.set_xlabel('Number of neighbours')\n",
    "ax.set_ylabel('Cross Validation RMSE')\n",
    "sns.despine()\n",
    "plt.show()\n",
    "  \n",
    "print(f'Lowest CV error: K = {1 + np.argmin(cv_rmse)}')   "
   ]
  },
  {
   "cell_type": "markdown",
   "metadata": {},
   "source": [
    "We now turn to model selection. We use the [<TT>cross_val_predict</TT>](http://scikit-learn.org/stable/modules/generated/sklearn.model_selection.cross_val_predict.html) function and show the results for different evaluation metrics. We can also apply the [<TT>cross_val_score</TT>] function to build this type of table, but this is slower when considering multiple metrics. "
   ]
  },
  {
   "cell_type": "code",
   "execution_count": 24,
   "metadata": {},
   "outputs": [
    {
     "data": {
      "text/html": [
       "<div>\n",
       "<style>\n",
       "    .dataframe thead tr:only-child th {\n",
       "        text-align: right;\n",
       "    }\n",
       "\n",
       "    .dataframe thead th {\n",
       "        text-align: left;\n",
       "    }\n",
       "\n",
       "    .dataframe tbody tr th {\n",
       "        vertical-align: top;\n",
       "    }\n",
       "</style>\n",
       "<table border=\"1\" class=\"dataframe\">\n",
       "  <thead>\n",
       "    <tr style=\"text-align: right;\">\n",
       "      <th></th>\n",
       "      <th>RMSE</th>\n",
       "      <th>R-Squared</th>\n",
       "      <th>MAE</th>\n",
       "    </tr>\n",
       "  </thead>\n",
       "  <tbody>\n",
       "    <tr>\n",
       "      <th>Linear Regression</th>\n",
       "      <td>225.61</td>\n",
       "      <td>0.76</td>\n",
       "      <td>171.13</td>\n",
       "    </tr>\n",
       "    <tr>\n",
       "      <th>KNN</th>\n",
       "      <td>216.77</td>\n",
       "      <td>0.78</td>\n",
       "      <td>149.48</td>\n",
       "    </tr>\n",
       "  </tbody>\n",
       "</table>\n",
       "</div>"
      ],
      "text/plain": [
       "                     RMSE  R-Squared     MAE\n",
       "Linear Regression  225.61       0.76  171.13\n",
       "KNN                216.77       0.78  149.48"
      ]
     },
     "execution_count": 24,
     "metadata": {},
     "output_type": "execute_result"
    }
   ],
   "source": [
    "from sklearn.model_selection import cross_val_predict\n",
    "from sklearn.metrics import mean_squared_error, r2_score,  mean_absolute_error\n",
    "\n",
    "# Re-specifying the two models in context for clarity\n",
    "ols = LinearRegression()\n",
    "knn = KNeighborsRegressor(n_neighbors=7) \n",
    "\n",
    "# Initialise table\n",
    "columns=['RMSE', 'R-Squared', 'MAE']\n",
    "rows=['Linear Regression', 'KNN']\n",
    "results =pd.DataFrame(0.0, columns=columns, index=rows)\n",
    "\n",
    "# List of algorithms\n",
    "methods = [ols, knn] \n",
    "\n",
    "# Computer cross-validation predictions and metrics\n",
    "for i, method in enumerate(methods):\n",
    "    y_pred = cross_val_predict(method, X_train, y_train, cv=5, n_jobs=4)\n",
    "    results.iloc[i, 0] = np.sqrt(mean_squared_error(y_train, y_pred))\n",
    "    results.iloc[i, 1] = r2_score(y_train, y_pred)\n",
    "    results.iloc[i, 2] = mean_absolute_error(y_train, y_pred) \n",
    "\n",
    "results.round(2)"
   ]
  },
  {
   "cell_type": "markdown",
   "metadata": {},
   "source": [
    "##Model evaluation\n",
    "\n",
    "We now assess the performance of our selected model in the test data, also displaying the results for the linear regression for comparison. The results confirm that we made a good choice by selecting the KNN as the model to predict new data. "
   ]
  },
  {
   "cell_type": "code",
   "execution_count": 25,
   "metadata": {},
   "outputs": [
    {
     "data": {
      "text/html": [
       "<div>\n",
       "<style>\n",
       "    .dataframe thead tr:only-child th {\n",
       "        text-align: right;\n",
       "    }\n",
       "\n",
       "    .dataframe thead th {\n",
       "        text-align: left;\n",
       "    }\n",
       "\n",
       "    .dataframe tbody tr th {\n",
       "        vertical-align: top;\n",
       "    }\n",
       "</style>\n",
       "<table border=\"1\" class=\"dataframe\">\n",
       "  <thead>\n",
       "    <tr style=\"text-align: right;\">\n",
       "      <th></th>\n",
       "      <th>RMSE</th>\n",
       "      <th>R-Squared</th>\n",
       "      <th>MAE</th>\n",
       "    </tr>\n",
       "  </thead>\n",
       "  <tbody>\n",
       "    <tr>\n",
       "      <th>Linear Regression</th>\n",
       "      <td>254.82</td>\n",
       "      <td>0.70</td>\n",
       "      <td>197.13</td>\n",
       "    </tr>\n",
       "    <tr>\n",
       "      <th>KNN</th>\n",
       "      <td>242.78</td>\n",
       "      <td>0.73</td>\n",
       "      <td>170.94</td>\n",
       "    </tr>\n",
       "  </tbody>\n",
       "</table>\n",
       "</div>"
      ],
      "text/plain": [
       "                     RMSE  R-Squared     MAE\n",
       "Linear Regression  254.82       0.70  197.13\n",
       "KNN                242.78       0.73  170.94"
      ]
     },
     "execution_count": 25,
     "metadata": {},
     "output_type": "execute_result"
    }
   ],
   "source": [
    "# Training\n",
    "ols.fit(X_train, y_train)\n",
    "knn.fit(X_train, y_train)\n",
    "\n",
    "# Initialise table\n",
    "columns=['RMSE', 'R-Squared', 'MAE']\n",
    "rows=['Linear Regression', 'KNN']\n",
    "results =pd.DataFrame(0.0, columns=columns, index=rows)\n",
    "\n",
    "# List algorithms\n",
    "methods = [ols, knn] \n",
    "\n",
    "# Computer test predictions and metrics\n",
    "for i, method in enumerate(methods):\n",
    "    y_pred = method.predict(X_test)\n",
    "    results.iloc[i, 0] = np.sqrt(mean_squared_error(y_test, y_pred))\n",
    "    results.iloc[i, 1] = r2_score(y_test, y_pred)\n",
    "    results.iloc[i, 2] = mean_absolute_error(y_test, y_pred) \n",
    "\n",
    "results.round(2)"
   ]
  },
  {
   "cell_type": "markdown",
   "metadata": {},
   "source": [
    "##Practice\n",
    "\n",
    "Build on the preceding analysis by considering more predictors. The following specification will work best for the KNN method in this dataset when there are multiple predictors, with the number of neighbours to be determinde.  "
   ]
  },
  {
   "cell_type": "code",
   "execution_count": 26,
   "metadata": {},
   "outputs": [],
   "source": [
    "knn = KNeighborsRegressor(n_neighbors = k, metric='mahalanobis', metric_params={'V': X_train.cov()}) "
   ]
  }
 ],
 "metadata": {
  "kernelspec": {
   "display_name": "Python 3",
   "language": "python",
   "name": "python3"
  },
  "language_info": {
   "codemirror_mode": {
    "name": "ipython",
    "version": 3
   },
   "file_extension": ".py",
   "mimetype": "text/x-python",
   "name": "python",
   "nbconvert_exporter": "python",
   "pygments_lexer": "ipython3",
   "version": "3.6.3"
  }
 },
 "nbformat": 4,
 "nbformat_minor": 1
}
