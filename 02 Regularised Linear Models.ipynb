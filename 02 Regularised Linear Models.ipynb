{
 "cells": [
  {
   "cell_type": "markdown",
   "metadata": {},
   "source": [
    "<img align=\"center\" src=\"http://sydney.edu.au/images/content/about/logo-mono.jpg\">\n",
    "<h1 align=\"center\" style=\"margin-top:10px\">Machine Learning Using Python (MEAFA Workshop)</h1>\n",
    "<h2 align=\"center\" style=\"margin-top:10px\">Lesson 2: Regularised Linear Methods</h2>\n",
    "<br>\n",
    "\n",
    "<a href=\"Equity-Premium-Data\">Equity Premium Data</a> <br>\n",
    "<a href=\"#Exploratory-data-analysis\">Exploratory Data Analysis</a> <br>\n",
    "<a href=\"#Scaling-the-Predictors\">Scaling the Predictors</a> <br>\n",
    "<a href=\"#Regularised-Linear-Models\">Regularised Linear Models</a> <br>\n",
    "<a href=\"#Model-Evaluation\">Model Evaluation</a> <br>\n",
    "\n",
    "This notebook relies on the following libraries and settings."
   ]
  },
  {
   "cell_type": "code",
   "execution_count": 1,
   "metadata": {
    "collapsed": true
   },
   "outputs": [],
   "source": [
    "# Packages\n",
    "import numpy as np\n",
    "from scipy import stats\n",
    "import pandas as pd\n",
    "import matplotlib.pyplot as plt\n",
    "import seaborn as sns\n",
    "import warnings\n",
    "warnings.filterwarnings('ignore') "
   ]
  },
  {
   "cell_type": "code",
   "execution_count": 2,
   "metadata": {
    "collapsed": true
   },
   "outputs": [],
   "source": [
    "# Plot settings\n",
    "sns.set_context('notebook') \n",
    "sns.set_style('ticks') \n",
    "colours = ['#1F77B4', '#FF7F0E', '#2CA02C', '#DB2728', '#9467BD', '#8C564B', '#E377C2','#7F7F7F', '#BCBD22', '#17BECF']\n",
    "crayon = ['#4E79A7','#F28E2C','#E15759','#76B7B2','#59A14F', '#EDC949','#AF7AA1','#FF9DA7','#9C755F','#BAB0AB']\n",
    "sns.set_palette(colours)\n",
    "%matplotlib inline\n",
    "plt.rcParams['figure.figsize'] = (9, 6)"
   ]
  },
  {
   "cell_type": "code",
   "execution_count": 3,
   "metadata": {
    "collapsed": true
   },
   "outputs": [],
   "source": [
    "# Model selection and evaluation tools\n",
    "from sklearn.model_selection import train_test_split\n",
    "from sklearn.model_selection import RandomizedSearchCV\n",
    "from sklearn.metrics import mean_squared_error, r2_score,  mean_absolute_error\n",
    "\n",
    "# Methods\n",
    "from sklearn.linear_model import LinearRegression"
   ]
  },
  {
   "cell_type": "markdown",
   "metadata": {},
   "source": [
    "##Equity Premium Data\n",
    "\n",
    "We use data from [Goyal and Welch (2008)](https://academic.oup.com/rfs/article/21/4/1455/1565737), who conducted a detailed study of equity premium predictability. The updated quartely data that we use in this tutorial is available from Amit Goyal's [webpage](http://www.hec.unil.ch/agoyal/).\n",
    "\n",
    "The question that we explore in this lesson is whether linear machine learning methods can help to predict the premium, or at least avoid overfiting noisy financial data. "
   ]
  },
  {
   "cell_type": "code",
   "execution_count": 4,
   "metadata": {},
   "outputs": [
    {
     "data": {
      "text/html": [
       "<div>\n",
       "<style>\n",
       "    .dataframe thead tr:only-child th {\n",
       "        text-align: right;\n",
       "    }\n",
       "\n",
       "    .dataframe thead th {\n",
       "        text-align: left;\n",
       "    }\n",
       "\n",
       "    .dataframe tbody tr th {\n",
       "        vertical-align: top;\n",
       "    }\n",
       "</style>\n",
       "<table border=\"1\" class=\"dataframe\">\n",
       "  <thead>\n",
       "    <tr style=\"text-align: right;\">\n",
       "      <th></th>\n",
       "      <th>yyyyq</th>\n",
       "      <th>Index</th>\n",
       "      <th>D12</th>\n",
       "      <th>E12</th>\n",
       "      <th>b/m</th>\n",
       "      <th>tbl</th>\n",
       "      <th>AAA</th>\n",
       "      <th>BAA</th>\n",
       "      <th>lty</th>\n",
       "      <th>cay</th>\n",
       "      <th>...</th>\n",
       "      <th>infl</th>\n",
       "      <th>ltr</th>\n",
       "      <th>corpr</th>\n",
       "      <th>svar</th>\n",
       "      <th>csp</th>\n",
       "      <th>ik</th>\n",
       "      <th>CRSP_SPvw</th>\n",
       "      <th>CRSP_SPvwx</th>\n",
       "      <th>D3</th>\n",
       "      <th>E3</th>\n",
       "    </tr>\n",
       "  </thead>\n",
       "  <tbody>\n",
       "    <tr>\n",
       "      <th>575</th>\n",
       "      <td>20144</td>\n",
       "      <td>2058.900000</td>\n",
       "      <td>39.44</td>\n",
       "      <td>102.31</td>\n",
       "      <td>0.323756</td>\n",
       "      <td>0.0003</td>\n",
       "      <td>0.0379</td>\n",
       "      <td>0.0474</td>\n",
       "      <td>0.0240</td>\n",
       "      <td>-0.047225</td>\n",
       "      <td>...</td>\n",
       "      <td>-0.004404</td>\n",
       "      <td>0.090182</td>\n",
       "      <td>0.059225</td>\n",
       "      <td>0.005087</td>\n",
       "      <td>NaN</td>\n",
       "      <td>0.033620</td>\n",
       "      <td>0.050666</td>\n",
       "      <td>0.045080</td>\n",
       "      <td>10.47</td>\n",
       "      <td>22.83</td>\n",
       "    </tr>\n",
       "    <tr>\n",
       "      <th>576</th>\n",
       "      <td>20151</td>\n",
       "      <td>2067.889893</td>\n",
       "      <td>40.80</td>\n",
       "      <td>99.25</td>\n",
       "      <td>0.307454</td>\n",
       "      <td>0.0003</td>\n",
       "      <td>0.0364</td>\n",
       "      <td>0.0454</td>\n",
       "      <td>0.0223</td>\n",
       "      <td>-0.058516</td>\n",
       "      <td>...</td>\n",
       "      <td>-0.002559</td>\n",
       "      <td>0.028796</td>\n",
       "      <td>0.031934</td>\n",
       "      <td>0.004761</td>\n",
       "      <td>NaN</td>\n",
       "      <td>0.033464</td>\n",
       "      <td>0.010292</td>\n",
       "      <td>0.004963</td>\n",
       "      <td>10.55</td>\n",
       "      <td>21.81</td>\n",
       "    </tr>\n",
       "    <tr>\n",
       "      <th>577</th>\n",
       "      <td>20152</td>\n",
       "      <td>2063.110107</td>\n",
       "      <td>41.73</td>\n",
       "      <td>94.91</td>\n",
       "      <td>0.310187</td>\n",
       "      <td>0.0002</td>\n",
       "      <td>0.0419</td>\n",
       "      <td>0.0513</td>\n",
       "      <td>0.0261</td>\n",
       "      <td>-0.056800</td>\n",
       "      <td>...</td>\n",
       "      <td>0.006631</td>\n",
       "      <td>-0.069096</td>\n",
       "      <td>-0.072893</td>\n",
       "      <td>0.002513</td>\n",
       "      <td>NaN</td>\n",
       "      <td>0.033517</td>\n",
       "      <td>0.001510</td>\n",
       "      <td>-0.003636</td>\n",
       "      <td>10.69</td>\n",
       "      <td>22.80</td>\n",
       "    </tr>\n",
       "    <tr>\n",
       "      <th>578</th>\n",
       "      <td>20153</td>\n",
       "      <td>1920.030029</td>\n",
       "      <td>42.50</td>\n",
       "      <td>90.66</td>\n",
       "      <td>0.335612</td>\n",
       "      <td>0.0002</td>\n",
       "      <td>0.0407</td>\n",
       "      <td>0.0534</td>\n",
       "      <td>0.0240</td>\n",
       "      <td>-0.053225</td>\n",
       "      <td>...</td>\n",
       "      <td>0.000278</td>\n",
       "      <td>0.052134</td>\n",
       "      <td>0.030567</td>\n",
       "      <td>0.011060</td>\n",
       "      <td>NaN</td>\n",
       "      <td>0.033448</td>\n",
       "      <td>-0.063191</td>\n",
       "      <td>-0.068258</td>\n",
       "      <td>10.79</td>\n",
       "      <td>23.22</td>\n",
       "    </tr>\n",
       "    <tr>\n",
       "      <th>579</th>\n",
       "      <td>20154</td>\n",
       "      <td>2043.939941</td>\n",
       "      <td>43.38</td>\n",
       "      <td>86.53</td>\n",
       "      <td>0.313649</td>\n",
       "      <td>0.0023</td>\n",
       "      <td>0.0397</td>\n",
       "      <td>0.0546</td>\n",
       "      <td>0.0243</td>\n",
       "      <td>-0.056847</td>\n",
       "      <td>...</td>\n",
       "      <td>0.002324</td>\n",
       "      <td>-0.013940</td>\n",
       "      <td>0.004004</td>\n",
       "      <td>0.005576</td>\n",
       "      <td>NaN</td>\n",
       "      <td>0.032991</td>\n",
       "      <td>0.070375</td>\n",
       "      <td>0.064291</td>\n",
       "      <td>11.35</td>\n",
       "      <td>18.70</td>\n",
       "    </tr>\n",
       "  </tbody>\n",
       "</table>\n",
       "<p>5 rows × 22 columns</p>\n",
       "</div>"
      ],
      "text/plain": [
       "     yyyyq        Index    D12     E12       b/m     tbl     AAA     BAA  \\\n",
       "575  20144  2058.900000  39.44  102.31  0.323756  0.0003  0.0379  0.0474   \n",
       "576  20151  2067.889893  40.80   99.25  0.307454  0.0003  0.0364  0.0454   \n",
       "577  20152  2063.110107  41.73   94.91  0.310187  0.0002  0.0419  0.0513   \n",
       "578  20153  1920.030029  42.50   90.66  0.335612  0.0002  0.0407  0.0534   \n",
       "579  20154  2043.939941  43.38   86.53  0.313649  0.0023  0.0397  0.0546   \n",
       "\n",
       "        lty       cay  ...        infl       ltr     corpr      svar  csp  \\\n",
       "575  0.0240 -0.047225  ...   -0.004404  0.090182  0.059225  0.005087  NaN   \n",
       "576  0.0223 -0.058516  ...   -0.002559  0.028796  0.031934  0.004761  NaN   \n",
       "577  0.0261 -0.056800  ...    0.006631 -0.069096 -0.072893  0.002513  NaN   \n",
       "578  0.0240 -0.053225  ...    0.000278  0.052134  0.030567  0.011060  NaN   \n",
       "579  0.0243 -0.056847  ...    0.002324 -0.013940  0.004004  0.005576  NaN   \n",
       "\n",
       "           ik  CRSP_SPvw  CRSP_SPvwx     D3     E3  \n",
       "575  0.033620   0.050666    0.045080  10.47  22.83  \n",
       "576  0.033464   0.010292    0.004963  10.55  21.81  \n",
       "577  0.033517   0.001510   -0.003636  10.69  22.80  \n",
       "578  0.033448  -0.063191   -0.068258  10.79  23.22  \n",
       "579  0.032991   0.070375    0.064291  11.35  18.70  \n",
       "\n",
       "[5 rows x 22 columns]"
      ]
     },
     "execution_count": 4,
     "metadata": {},
     "output_type": "execute_result"
    }
   ],
   "source": [
    "data=pd.read_excel('Datasets/PredictorData2015.xlsx', sheetname='Quarterly')\n",
    "data.tail()"
   ]
  },
  {
   "cell_type": "code",
   "execution_count": 5,
   "metadata": {
    "collapsed": true
   },
   "outputs": [],
   "source": [
    "# Processing the predictors as Goyal and Welch\n",
    "data['return']=100*(np.log(data['Index'])-np.log(data['Index'].shift(1)))\n",
    "data['dp']=np.log(data['D12'])-np.log(data['Index'])\n",
    "data['dy']=np.log(data['D12'])-np.log(data['Index'].shift(1))\n",
    "data['ep']=np.log(data['E12'])-np.log(data['Index'])\n",
    "data=data.rename(columns={'b/m': 'bm'})\n",
    "data['tms']=data['ltr']-data['tbl']\n",
    "data['dfy']=data['BAA']-data['AAA']\n",
    "data['dfr']=data['corpr']-data['ltr']\n",
    "data['ret']=data['return']-100*(data['tbl']/4)"
   ]
  },
  {
   "cell_type": "code",
   "execution_count": 6,
   "metadata": {},
   "outputs": [
    {
     "data": {
      "text/html": [
       "<div>\n",
       "<style>\n",
       "    .dataframe thead tr:only-child th {\n",
       "        text-align: right;\n",
       "    }\n",
       "\n",
       "    .dataframe thead th {\n",
       "        text-align: left;\n",
       "    }\n",
       "\n",
       "    .dataframe tbody tr th {\n",
       "        vertical-align: top;\n",
       "    }\n",
       "</style>\n",
       "<table border=\"1\" class=\"dataframe\">\n",
       "  <thead>\n",
       "    <tr style=\"text-align: right;\">\n",
       "      <th></th>\n",
       "      <th>dp</th>\n",
       "      <th>dy</th>\n",
       "      <th>ep</th>\n",
       "      <th>bm</th>\n",
       "      <th>ntis</th>\n",
       "      <th>tbl</th>\n",
       "      <th>tms</th>\n",
       "      <th>dfy</th>\n",
       "      <th>dfr</th>\n",
       "      <th>infl</th>\n",
       "      <th>ik</th>\n",
       "      <th>ret</th>\n",
       "    </tr>\n",
       "    <tr>\n",
       "      <th>yyyyq</th>\n",
       "      <th></th>\n",
       "      <th></th>\n",
       "      <th></th>\n",
       "      <th></th>\n",
       "      <th></th>\n",
       "      <th></th>\n",
       "      <th></th>\n",
       "      <th></th>\n",
       "      <th></th>\n",
       "      <th></th>\n",
       "      <th></th>\n",
       "      <th></th>\n",
       "    </tr>\n",
       "  </thead>\n",
       "  <tbody>\n",
       "    <tr>\n",
       "      <th>19472</th>\n",
       "      <td>-3.05</td>\n",
       "      <td>-3.06</td>\n",
       "      <td>-2.48</td>\n",
       "      <td>0.74</td>\n",
       "      <td>0.03</td>\n",
       "      <td>0.00</td>\n",
       "      <td>-0.00</td>\n",
       "      <td>0.01</td>\n",
       "      <td>0.00</td>\n",
       "      <td>0.02</td>\n",
       "      <td>0.04</td>\n",
       "      <td>0.17</td>\n",
       "    </tr>\n",
       "    <tr>\n",
       "      <th>19473</th>\n",
       "      <td>-3.00</td>\n",
       "      <td>-2.99</td>\n",
       "      <td>-2.36</td>\n",
       "      <td>0.74</td>\n",
       "      <td>0.03</td>\n",
       "      <td>0.00</td>\n",
       "      <td>-0.00</td>\n",
       "      <td>0.01</td>\n",
       "      <td>0.00</td>\n",
       "      <td>0.00</td>\n",
       "      <td>0.03</td>\n",
       "      <td>-0.86</td>\n",
       "    </tr>\n",
       "    <tr>\n",
       "      <th>19474</th>\n",
       "      <td>-2.95</td>\n",
       "      <td>-2.96</td>\n",
       "      <td>-2.28</td>\n",
       "      <td>0.74</td>\n",
       "      <td>0.02</td>\n",
       "      <td>0.01</td>\n",
       "      <td>0.00</td>\n",
       "      <td>0.01</td>\n",
       "      <td>-0.03</td>\n",
       "      <td>0.03</td>\n",
       "      <td>0.03</td>\n",
       "      <td>1.01</td>\n",
       "    </tr>\n",
       "    <tr>\n",
       "      <th>19481</th>\n",
       "      <td>-2.90</td>\n",
       "      <td>-2.89</td>\n",
       "      <td>-2.25</td>\n",
       "      <td>0.73</td>\n",
       "      <td>0.03</td>\n",
       "      <td>0.01</td>\n",
       "      <td>-0.05</td>\n",
       "      <td>0.01</td>\n",
       "      <td>0.02</td>\n",
       "      <td>0.02</td>\n",
       "      <td>0.03</td>\n",
       "      <td>-1.70</td>\n",
       "    </tr>\n",
       "    <tr>\n",
       "      <th>19482</th>\n",
       "      <td>-2.88</td>\n",
       "      <td>-2.89</td>\n",
       "      <td>-2.18</td>\n",
       "      <td>0.84</td>\n",
       "      <td>0.03</td>\n",
       "      <td>0.01</td>\n",
       "      <td>0.00</td>\n",
       "      <td>0.01</td>\n",
       "      <td>0.01</td>\n",
       "      <td>0.00</td>\n",
       "      <td>0.04</td>\n",
       "      <td>10.19</td>\n",
       "    </tr>\n",
       "  </tbody>\n",
       "</table>\n",
       "</div>"
      ],
      "text/plain": [
       "         dp    dy    ep    bm  ntis   tbl   tms   dfy   dfr  infl    ik    ret\n",
       "yyyyq                                                                         \n",
       "19472 -3.05 -3.06 -2.48  0.74  0.03  0.00 -0.00  0.01  0.00  0.02  0.04   0.17\n",
       "19473 -3.00 -2.99 -2.36  0.74  0.03  0.00 -0.00  0.01  0.00  0.00  0.03  -0.86\n",
       "19474 -2.95 -2.96 -2.28  0.74  0.02  0.01  0.00  0.01 -0.03  0.03  0.03   1.01\n",
       "19481 -2.90 -2.89 -2.25  0.73  0.03  0.01 -0.05  0.01  0.02  0.02  0.03  -1.70\n",
       "19482 -2.88 -2.89 -2.18  0.84  0.03  0.01  0.00  0.01  0.01  0.00  0.04  10.19"
      ]
     },
     "execution_count": 6,
     "metadata": {},
     "output_type": "execute_result"
    }
   ],
   "source": [
    "#Data Wrangling\n",
    "response='ret'\n",
    "predictors=['dp', 'dy', 'ep', 'bm', 'ntis', 'tbl', 'tms', 'dfy', 'dfr', 'infl', 'ik']\n",
    "data=data[['yyyyq']+predictors+[response]]\n",
    "data[predictors]=data[predictors].shift(1) # lagging predictors by one periond\n",
    "data=data.set_index('yyyyq')\n",
    "data=data.dropna()\n",
    "data.head().round(2)"
   ]
  },
  {
   "cell_type": "code",
   "execution_count": 7,
   "metadata": {
    "collapsed": true
   },
   "outputs": [],
   "source": [
    "train = data.iloc[:220,:].copy()\n",
    "test =  data.iloc[220:,:].copy()\n",
    "\n",
    "y_train = train[response]\n",
    "y_test = test[response]\n",
    "\n",
    "X_train = train[predictors].copy()\n",
    "X_test = test[predictors].copy()"
   ]
  },
  {
   "cell_type": "markdown",
   "metadata": {},
   "source": [
    "## Exploratory data analysis"
   ]
  },
  {
   "cell_type": "markdown",
   "metadata": {},
   "source": [
    "The two variables with strongest linear relationship with house values are the median income of the area, and the average number of rooms. Further exploration through the scatter plots below reveal nonlinear patterns for the median income, average rooms, and average occupancy. Population, housing average age, and average bedrooms seem to have only weak relationships with house values. "
   ]
  },
  {
   "cell_type": "code",
   "execution_count": 8,
   "metadata": {},
   "outputs": [
    {
     "data": {
      "text/html": [
       "<div>\n",
       "<style>\n",
       "    .dataframe thead tr:only-child th {\n",
       "        text-align: right;\n",
       "    }\n",
       "\n",
       "    .dataframe thead th {\n",
       "        text-align: left;\n",
       "    }\n",
       "\n",
       "    .dataframe tbody tr th {\n",
       "        vertical-align: top;\n",
       "    }\n",
       "</style>\n",
       "<table border=\"1\" class=\"dataframe\">\n",
       "  <thead>\n",
       "    <tr style=\"text-align: right;\">\n",
       "      <th></th>\n",
       "      <th>dp</th>\n",
       "      <th>dy</th>\n",
       "      <th>ep</th>\n",
       "      <th>bm</th>\n",
       "      <th>ntis</th>\n",
       "      <th>tbl</th>\n",
       "      <th>tms</th>\n",
       "      <th>dfy</th>\n",
       "      <th>dfr</th>\n",
       "      <th>infl</th>\n",
       "      <th>ik</th>\n",
       "      <th>ret</th>\n",
       "    </tr>\n",
       "  </thead>\n",
       "  <tbody>\n",
       "    <tr>\n",
       "      <th>count</th>\n",
       "      <td>220.00</td>\n",
       "      <td>220.00</td>\n",
       "      <td>220.00</td>\n",
       "      <td>220.00</td>\n",
       "      <td>220.00</td>\n",
       "      <td>220.00</td>\n",
       "      <td>220.00</td>\n",
       "      <td>220.00</td>\n",
       "      <td>220.00</td>\n",
       "      <td>220.00</td>\n",
       "      <td>220.00</td>\n",
       "      <td>220.00</td>\n",
       "    </tr>\n",
       "    <tr>\n",
       "      <th>mean</th>\n",
       "      <td>-3.36</td>\n",
       "      <td>-3.34</td>\n",
       "      <td>-2.66</td>\n",
       "      <td>0.60</td>\n",
       "      <td>0.02</td>\n",
       "      <td>0.05</td>\n",
       "      <td>-0.03</td>\n",
       "      <td>0.01</td>\n",
       "      <td>0.00</td>\n",
       "      <td>0.01</td>\n",
       "      <td>0.04</td>\n",
       "      <td>0.73</td>\n",
       "    </tr>\n",
       "    <tr>\n",
       "      <th>std</th>\n",
       "      <td>0.40</td>\n",
       "      <td>0.40</td>\n",
       "      <td>0.40</td>\n",
       "      <td>0.25</td>\n",
       "      <td>0.02</td>\n",
       "      <td>0.03</td>\n",
       "      <td>0.06</td>\n",
       "      <td>0.00</td>\n",
       "      <td>0.02</td>\n",
       "      <td>0.01</td>\n",
       "      <td>0.00</td>\n",
       "      <td>7.65</td>\n",
       "    </tr>\n",
       "    <tr>\n",
       "      <th>min</th>\n",
       "      <td>-4.49</td>\n",
       "      <td>-4.50</td>\n",
       "      <td>-3.84</td>\n",
       "      <td>0.13</td>\n",
       "      <td>-0.03</td>\n",
       "      <td>0.00</td>\n",
       "      <td>-0.30</td>\n",
       "      <td>0.00</td>\n",
       "      <td>-0.09</td>\n",
       "      <td>-0.01</td>\n",
       "      <td>0.03</td>\n",
       "      <td>-32.28</td>\n",
       "    </tr>\n",
       "    <tr>\n",
       "      <th>25%</th>\n",
       "      <td>-3.52</td>\n",
       "      <td>-3.50</td>\n",
       "      <td>-2.91</td>\n",
       "      <td>0.47</td>\n",
       "      <td>0.01</td>\n",
       "      <td>0.03</td>\n",
       "      <td>-0.07</td>\n",
       "      <td>0.01</td>\n",
       "      <td>-0.01</td>\n",
       "      <td>0.00</td>\n",
       "      <td>0.03</td>\n",
       "      <td>-3.58</td>\n",
       "    </tr>\n",
       "    <tr>\n",
       "      <th>50%</th>\n",
       "      <td>-3.36</td>\n",
       "      <td>-3.34</td>\n",
       "      <td>-2.74</td>\n",
       "      <td>0.58</td>\n",
       "      <td>0.02</td>\n",
       "      <td>0.05</td>\n",
       "      <td>-0.03</td>\n",
       "      <td>0.01</td>\n",
       "      <td>0.00</td>\n",
       "      <td>0.01</td>\n",
       "      <td>0.04</td>\n",
       "      <td>1.97</td>\n",
       "    </tr>\n",
       "    <tr>\n",
       "      <th>75%</th>\n",
       "      <td>-3.09</td>\n",
       "      <td>-3.06</td>\n",
       "      <td>-2.35</td>\n",
       "      <td>0.76</td>\n",
       "      <td>0.03</td>\n",
       "      <td>0.06</td>\n",
       "      <td>-0.00</td>\n",
       "      <td>0.01</td>\n",
       "      <td>0.01</td>\n",
       "      <td>0.01</td>\n",
       "      <td>0.04</td>\n",
       "      <td>5.61</td>\n",
       "    </tr>\n",
       "    <tr>\n",
       "      <th>max</th>\n",
       "      <td>-2.60</td>\n",
       "      <td>-2.58</td>\n",
       "      <td>-1.77</td>\n",
       "      <td>1.20</td>\n",
       "      <td>0.05</td>\n",
       "      <td>0.15</td>\n",
       "      <td>0.17</td>\n",
       "      <td>0.03</td>\n",
       "      <td>0.04</td>\n",
       "      <td>0.04</td>\n",
       "      <td>0.04</td>\n",
       "      <td>18.17</td>\n",
       "    </tr>\n",
       "  </tbody>\n",
       "</table>\n",
       "</div>"
      ],
      "text/plain": [
       "           dp      dy      ep      bm    ntis     tbl     tms     dfy     dfr  \\\n",
       "count  220.00  220.00  220.00  220.00  220.00  220.00  220.00  220.00  220.00   \n",
       "mean    -3.36   -3.34   -2.66    0.60    0.02    0.05   -0.03    0.01    0.00   \n",
       "std      0.40    0.40    0.40    0.25    0.02    0.03    0.06    0.00    0.02   \n",
       "min     -4.49   -4.50   -3.84    0.13   -0.03    0.00   -0.30    0.00   -0.09   \n",
       "25%     -3.52   -3.50   -2.91    0.47    0.01    0.03   -0.07    0.01   -0.01   \n",
       "50%     -3.36   -3.34   -2.74    0.58    0.02    0.05   -0.03    0.01    0.00   \n",
       "75%     -3.09   -3.06   -2.35    0.76    0.03    0.06   -0.00    0.01    0.01   \n",
       "max     -2.60   -2.58   -1.77    1.20    0.05    0.15    0.17    0.03    0.04   \n",
       "\n",
       "         infl      ik     ret  \n",
       "count  220.00  220.00  220.00  \n",
       "mean     0.01    0.04    0.73  \n",
       "std      0.01    0.00    7.65  \n",
       "min     -0.01    0.03  -32.28  \n",
       "25%      0.00    0.03   -3.58  \n",
       "50%      0.01    0.04    1.97  \n",
       "75%      0.01    0.04    5.61  \n",
       "max      0.04    0.04   18.17  "
      ]
     },
     "execution_count": 8,
     "metadata": {},
     "output_type": "execute_result"
    }
   ],
   "source": [
    "train.describe().round(2)"
   ]
  },
  {
   "cell_type": "code",
   "execution_count": 9,
   "metadata": {},
   "outputs": [
    {
     "data": {
      "image/png": "[encoded data removed]",
      "text/plain": [
       "<matplotlib.figure.Figure at 0x27ca416a6d8>"
      ]
     },
     "metadata": {},
     "output_type": "display_data"
    }
   ],
   "source": [
    "from statlearning import plot_histogram\n",
    "\n",
    "plot_histogram(y_train)\n",
    "plt.title('Return distribution')\n",
    "plt.show()"
   ]
  },
  {
   "cell_type": "markdown",
   "metadata": {},
   "source": [
    "This dataset is characterised by strong correlations between the predictors. "
   ]
  },
  {
   "cell_type": "code",
   "execution_count": 10,
   "metadata": {},
   "outputs": [
    {
     "data": {
      "image/png": "[encoded data removed]",
      "text/plain": [
       "<matplotlib.figure.Figure at 0x27ca416a438>"
      ]
     },
     "metadata": {},
     "output_type": "display_data"
    }
   ],
   "source": [
    "from statlearning import plot_correlation_matrix\n",
    "\n",
    "plot_correlation_matrix(X_train)\n",
    "plt.show()"
   ]
  },
  {
   "cell_type": "code",
   "execution_count": 11,
   "metadata": {},
   "outputs": [
    {
     "data": {
      "image/png": "[encoded data removed]",
      "text/plain": [
       "<matplotlib.figure.Figure at 0x27ca3be9f28>"
      ]
     },
     "metadata": {},
     "output_type": "display_data"
    }
   ],
   "source": [
    "from statlearning import plot_regressions\n",
    "\n",
    "with sns.color_palette(crayon):\n",
    "    plot_regressions(X_train, y_train)\n",
    "    plt.show()"
   ]
  },
  {
   "cell_type": "markdown",
   "metadata": {},
   "source": [
    "## Scaling the Predictors\n",
    "\n",
    "It is essential to scale the predictors before fitting regularised linear methods. Like several other machine learning algorithms, regularised linear methods do not perform well when predictors have very different scales, since the penalty term in the objective function treats all coefficients as comparable.  \n",
    "\n",
    "The most common type of scaling is standardisation, where we transform each predictor by subtracting its sample average and diving the result by its standard deviation. The Scikit-Learn [<TT>StandardScaler</TT>](http://scikit-learn.org/stable/modules/generated/sklearn.preprocessing.StandardScaler.html) method makes it easy to process the data in this way.\n",
    "\n",
    "We have two ways of implementing a workflow that includes scaling. The first is to use the standard scaler to preprocess the design matrix, and then work with the transformed as usual. "
   ]
  },
  {
   "cell_type": "code",
   "execution_count": 12,
   "metadata": {
    "collapsed": true
   },
   "outputs": [],
   "source": [
    "from sklearn.preprocessing import StandardScaler\n",
    "\n",
    "scaler = StandardScaler()\n",
    "scaler.fit(X_train)\n",
    "\n",
    "X_train_scaled = scaler.transform(X_train)\n",
    "X_test_scaled = scaler.transform(X_test)"
   ]
  },
  {
   "cell_type": "markdown",
   "metadata": {},
   "source": [
    "We use a ridge regression to illustrate the process of fitting the model and computing predictions, without worrying about the details of the algorithm for now. "
   ]
  },
  {
   "cell_type": "code",
   "execution_count": 13,
   "metadata": {},
   "outputs": [
    {
     "name": "stdout",
     "output_type": "stream",
     "text": [
      "1.89102960374\n"
     ]
    }
   ],
   "source": [
    "from sklearn.linear_model import Ridge\n",
    "\n",
    "ridge = Ridge()\n",
    "ridge.fit(X_train_scaled, y_train)\n",
    "y_pred = ridge.predict(X_test_scaled)\n",
    "print(y_pred[0]) # this is to demonstrate that we will get the result below"
   ]
  },
  {
   "cell_type": "markdown",
   "metadata": {},
   "source": [
    "The other option is to use a Scikit-Learn [pipeline](http://scikit-learn.org/stable/modules/generated/sklearn.pipeline.Pipeline.html#sklearn.pipeline.Pipeline), which allows the user to combine transformations with a final estimator. "
   ]
  },
  {
   "cell_type": "code",
   "execution_count": 14,
   "metadata": {},
   "outputs": [
    {
     "name": "stdout",
     "output_type": "stream",
     "text": [
      "1.89102960374\n"
     ]
    }
   ],
   "source": [
    "from sklearn.pipeline import Pipeline\n",
    "\n",
    "ridge = Pipeline([\n",
    "    ('scaler', StandardScaler()),\n",
    "    ('estimator', Ridge()),\n",
    "])\n",
    "\n",
    "ridge.fit(X_train, y_train)\n",
    "y_pred = ridge.predict(X_test)\n",
    "print(y_pred[0]) # same result as above"
   ]
  },
  {
   "cell_type": "markdown",
   "metadata": {},
   "source": [
    "## Regularised Linear Models\n",
    "\n",
    "We first fit a linear regression for reference. "
   ]
  },
  {
   "cell_type": "code",
   "execution_count": 15,
   "metadata": {},
   "outputs": [
    {
     "data": {
      "text/plain": [
       "LinearRegression(copy_X=True, fit_intercept=True, n_jobs=1, normalize=False)"
      ]
     },
     "execution_count": 15,
     "metadata": {},
     "output_type": "execute_result"
    }
   ],
   "source": [
    "ols = LinearRegression()\n",
    "ols.fit(X_train, y_train)"
   ]
  },
  {
   "cell_type": "markdown",
   "metadata": {},
   "source": [
    "###Lasso\n",
    "\n",
    "We use the [<TT>LassoCV</TT>](http://scikit-learn.org/stable/modules/generated/sklearn.linear_model.LassoCV.html) class to fit and tune the lasso model. The reason for this class, as opposed to running a grid search on the [<TT>Lasso</TT>](http://scikit-learn.org/stable/modules/generated/sklearn.linear_model.Lasso.html) class, is that there is an efficient algorithm for computing the path of solutions as we vary the lasso penalty. The same is true of other models. \n",
    "\n",
    "Below, we present code according to the two ways of handling predictor scaling. "
   ]
  },
  {
   "cell_type": "code",
   "execution_count": 16,
   "metadata": {},
   "outputs": [
    {
     "data": {
      "text/plain": [
       "LassoCV(alphas=None, copy_X=True, cv=5, eps=0.001, fit_intercept=True,\n",
       "    max_iter=1000, n_alphas=100, n_jobs=1, normalize=False, positive=False,\n",
       "    precompute='auto', random_state=None, selection='cyclic', tol=0.0001,\n",
       "    verbose=False)"
      ]
     },
     "execution_count": 16,
     "metadata": {},
     "output_type": "execute_result"
    }
   ],
   "source": [
    "from sklearn.linear_model import LassoCV\n",
    "\n",
    "lasso = LassoCV(cv=5)\n",
    "lasso.fit(X_train_scaled, y_train)"
   ]
  },
  {
   "cell_type": "code",
   "execution_count": 17,
   "metadata": {},
   "outputs": [
    {
     "data": {
      "text/plain": [
       "Pipeline(memory=None,\n",
       "     steps=[('scaler', StandardScaler(copy=True, with_mean=True, with_std=True)), ('estimator', LassoCV(alphas=None, copy_X=True, cv=5, eps=0.001, fit_intercept=True,\n",
       "    max_iter=1000, n_alphas=100, n_jobs=1, normalize=False, positive=False,\n",
       "    precompute='auto', random_state=None, selection='cyclic', tol=0.0001,\n",
       "    verbose=False))])"
      ]
     },
     "execution_count": 17,
     "metadata": {},
     "output_type": "execute_result"
    }
   ],
   "source": [
    "lasso = Pipeline((\n",
    "    ('scaler', StandardScaler()),\n",
    "    ('estimator', LassoCV(cv=5)),\n",
    "))\n",
    "\n",
    "lasso.fit(X_train, y_train)"
   ]
  },
  {
   "cell_type": "markdown",
   "metadata": {},
   "source": [
    "We can assess the regularisation strength by comparing the norm of the lasso coefficients with the OLS case. "
   ]
  },
  {
   "cell_type": "code",
   "execution_count": 18,
   "metadata": {},
   "outputs": [
    {
     "data": {
      "text/plain": [
       "0.001"
      ]
     },
     "execution_count": 18,
     "metadata": {},
     "output_type": "execute_result"
    }
   ],
   "source": [
    "reg = lasso._final_estimator\n",
    "round(np.linalg.norm(reg.coef_, ord=1)/np.linalg.norm(np.ravel(ols.coef_), ord=1),3)"
   ]
  },
  {
   "cell_type": "code",
   "execution_count": 19,
   "metadata": {},
   "outputs": [
    {
     "data": {
      "text/html": [
       "<div>\n",
       "<style>\n",
       "    .dataframe thead tr:only-child th {\n",
       "        text-align: right;\n",
       "    }\n",
       "\n",
       "    .dataframe thead th {\n",
       "        text-align: left;\n",
       "    }\n",
       "\n",
       "    .dataframe tbody tr th {\n",
       "        vertical-align: top;\n",
       "    }\n",
       "</style>\n",
       "<table border=\"1\" class=\"dataframe\">\n",
       "  <thead>\n",
       "    <tr style=\"text-align: right;\">\n",
       "      <th></th>\n",
       "      <th>dp</th>\n",
       "      <th>dy</th>\n",
       "      <th>ep</th>\n",
       "      <th>bm</th>\n",
       "      <th>ntis</th>\n",
       "      <th>tbl</th>\n",
       "      <th>tms</th>\n",
       "      <th>dfy</th>\n",
       "      <th>dfr</th>\n",
       "      <th>infl</th>\n",
       "      <th>ik</th>\n",
       "    </tr>\n",
       "  </thead>\n",
       "  <tbody>\n",
       "    <tr>\n",
       "      <th>0</th>\n",
       "      <td>0.0</td>\n",
       "      <td>0.0</td>\n",
       "      <td>0.0</td>\n",
       "      <td>0.0</td>\n",
       "      <td>-0.0</td>\n",
       "      <td>-0.0</td>\n",
       "      <td>0.62</td>\n",
       "      <td>0.0</td>\n",
       "      <td>0.0</td>\n",
       "      <td>-0.029</td>\n",
       "      <td>-0.229</td>\n",
       "    </tr>\n",
       "  </tbody>\n",
       "</table>\n",
       "</div>"
      ],
      "text/plain": [
       "    dp   dy   ep   bm  ntis  tbl   tms  dfy  dfr   infl     ik\n",
       "0  0.0  0.0  0.0  0.0  -0.0 -0.0  0.62  0.0  0.0 -0.029 -0.229"
      ]
     },
     "execution_count": 19,
     "metadata": {},
     "output_type": "execute_result"
    }
   ],
   "source": [
    "pd.DataFrame(reg.coef_.round(3), index = predictors).T"
   ]
  },
  {
   "cell_type": "code",
   "execution_count": 20,
   "metadata": {},
   "outputs": [
    {
     "data": {
      "image/png": "[encoded data removed]",
      "text/plain": [
       "<matplotlib.figure.Figure at 0x27ca5098828>"
      ]
     },
     "metadata": {},
     "output_type": "display_data"
    }
   ],
   "source": [
    "from statlearning import plot_coefficients\n",
    "\n",
    "plot_coefficients(reg, predictors)\n",
    "plt.show()"
   ]
  },
  {
   "cell_type": "markdown",
   "metadata": {},
   "source": [
    "###Ridge Regression"
   ]
  },
  {
   "cell_type": "code",
   "execution_count": 21,
   "metadata": {},
   "outputs": [
    {
     "data": {
      "text/plain": [
       "RidgeCV(alphas=[3.0517578125e-05, 3.5055491790680982e-05, 4.0268185753567341e-05, 4.6255998733837822e-05, 5.3134189654304478e-05, 6.103515625e-05, 7.0110983581361965e-05, 8.0536371507134683e-05, 9.2511997467675645e-05, 0.00010626837930860896, 0.0001220703125, 0.00014022196716272393, 0.00016107274301426937, ...05, 16384.0, 18820.273848271459, 21618.817610103131, 24833.500225706386, 28526.20085808741, 32768.0],\n",
       "    cv=5, fit_intercept=True, gcv_mode=None, normalize=False, scoring=None,\n",
       "    store_cv_values=False)"
      ]
     },
     "execution_count": 21,
     "metadata": {},
     "output_type": "execute_result"
    }
   ],
   "source": [
    "from sklearn.linear_model import RidgeCV\n",
    "\n",
    "alphas = list(np.logspace(-15, 15, 151, base=2))\n",
    "\n",
    "ridge = RidgeCV(alphas=alphas, cv=5)\n",
    "ridge.fit(X_train_scaled, y_train)"
   ]
  },
  {
   "cell_type": "code",
   "execution_count": 22,
   "metadata": {},
   "outputs": [
    {
     "data": {
      "text/plain": [
       "Pipeline(memory=None,\n",
       "     steps=[('scaler', StandardScaler(copy=True, with_mean=True, with_std=True)), ('estimator', RidgeCV(alphas=[3.0517578125e-05, 3.5055491790680982e-05, 4.0268185753567341e-05, 4.6255998733837822e-05, 5.3134189654304478e-05, 6.103515625e-05, 7.0110983581361965e-05, 8.0536371507134683e-05, 9.251199746767...cv=5, fit_intercept=True, gcv_mode=None, normalize=False, scoring=None,\n",
       "    store_cv_values=False))])"
      ]
     },
     "execution_count": 22,
     "metadata": {},
     "output_type": "execute_result"
    }
   ],
   "source": [
    "ridge = Pipeline((\n",
    "    ('scaler', StandardScaler()),\n",
    "    ('estimator', RidgeCV(alphas=alphas, cv=5)),\n",
    "))\n",
    "\n",
    "ridge.fit(X_train, y_train)"
   ]
  },
  {
   "cell_type": "code",
   "execution_count": 23,
   "metadata": {},
   "outputs": [
    {
     "data": {
      "image/png": "[encoded data removed]",
      "text/plain": [
       "<matplotlib.figure.Figure at 0x27ca52b2cf8>"
      ]
     },
     "metadata": {},
     "output_type": "display_data"
    }
   ],
   "source": [
    "plot_coefficients(ridge._final_estimator, predictors)\n",
    "plt.show()"
   ]
  },
  {
   "cell_type": "markdown",
   "metadata": {},
   "source": [
    "###Elastic Net"
   ]
  },
  {
   "cell_type": "code",
   "execution_count": 24,
   "metadata": {},
   "outputs": [
    {
     "data": {
      "text/plain": [
       "ElasticNetCV(alphas=None, copy_X=True, cv=5, eps=0.001, fit_intercept=True,\n",
       "       l1_ratio=[0.01, 0.1, 0.2, 0.3, 0.4, 0.5, 0.6, 0.7, 0.8, 0.9, 0.99],\n",
       "       max_iter=1000, n_alphas=100, n_jobs=1, normalize=False,\n",
       "       positive=False, precompute='auto', random_state=None,\n",
       "       selection='cyclic', tol=0.0001, verbose=0)"
      ]
     },
     "execution_count": 24,
     "metadata": {},
     "output_type": "execute_result"
    }
   ],
   "source": [
    "from sklearn.linear_model import ElasticNetCV\n",
    "\n",
    "enet = ElasticNetCV(l1_ratio=[0.01,0.1,0.2,0.3,0.4,0.5,0.6,0.7,0.8,0.9, 0.99], cv=5)\n",
    "enet.fit(X_train_scaled, y_train)"
   ]
  },
  {
   "cell_type": "code",
   "execution_count": 25,
   "metadata": {},
   "outputs": [
    {
     "data": {
      "text/plain": [
       "Pipeline(memory=None,\n",
       "     steps=[('scaler', StandardScaler(copy=True, with_mean=True, with_std=True)), ('estimator', ElasticNetCV(alphas=None, copy_X=True, cv=5, eps=0.001, fit_intercept=True,\n",
       "       l1_ratio=[0.01, 0.1, 0.2, 0.3, 0.4, 0.5, 0.6, 0.7, 0.8, 0.9, 0.99],\n",
       "       max_iter=1000, n_alphas=100, n_jobs=1, normalize=False,\n",
       "       positive=False, precompute='auto', random_state=None,\n",
       "       selection='cyclic', tol=0.0001, verbose=0))])"
      ]
     },
     "execution_count": 25,
     "metadata": {},
     "output_type": "execute_result"
    }
   ],
   "source": [
    "enet = Pipeline((\n",
    "    ('scaler', StandardScaler()),\n",
    "    ('estimator', ElasticNetCV(l1_ratio=[0.01,0.1,0.2,0.3,0.4,0.5,0.6,0.7,0.8,0.9, 0.99], cv=5)),\n",
    "))\n",
    "\n",
    "enet.fit(X_train, y_train)"
   ]
  },
  {
   "cell_type": "code",
   "execution_count": 26,
   "metadata": {},
   "outputs": [
    {
     "data": {
      "image/png": "[encoded data removed]",
      "text/plain": [
       "<matplotlib.figure.Figure at 0x27ca51f7748>"
      ]
     },
     "metadata": {},
     "output_type": "display_data"
    }
   ],
   "source": [
    "plot_coefficients(enet._final_estimator, predictors)\n",
    "plt.show()"
   ]
  },
  {
   "cell_type": "markdown",
   "metadata": {},
   "source": [
    "## Model evaluation\n"
   ]
  },
  {
   "cell_type": "code",
   "execution_count": 27,
   "metadata": {},
   "outputs": [
    {
     "data": {
      "text/html": [
       "<div>\n",
       "<style>\n",
       "    .dataframe thead tr:only-child th {\n",
       "        text-align: right;\n",
       "    }\n",
       "\n",
       "    .dataframe thead th {\n",
       "        text-align: left;\n",
       "    }\n",
       "\n",
       "    .dataframe tbody tr th {\n",
       "        vertical-align: top;\n",
       "    }\n",
       "</style>\n",
       "<table border=\"1\" class=\"dataframe\">\n",
       "  <thead>\n",
       "    <tr style=\"text-align: right;\">\n",
       "      <th></th>\n",
       "      <th>Test RMSE</th>\n",
       "      <th>Test R2</th>\n",
       "      <th>Test MAE</th>\n",
       "    </tr>\n",
       "  </thead>\n",
       "  <tbody>\n",
       "    <tr>\n",
       "      <th>OLS</th>\n",
       "      <td>9.601</td>\n",
       "      <td>-0.300</td>\n",
       "      <td>6.381</td>\n",
       "    </tr>\n",
       "    <tr>\n",
       "      <th>Lasso</th>\n",
       "      <td>8.444</td>\n",
       "      <td>-0.005</td>\n",
       "      <td>6.217</td>\n",
       "    </tr>\n",
       "    <tr>\n",
       "      <th>Ridge</th>\n",
       "      <td>8.396</td>\n",
       "      <td>0.006</td>\n",
       "      <td>6.159</td>\n",
       "    </tr>\n",
       "    <tr>\n",
       "      <th>Elastic Net</th>\n",
       "      <td>8.391</td>\n",
       "      <td>0.007</td>\n",
       "      <td>6.162</td>\n",
       "    </tr>\n",
       "  </tbody>\n",
       "</table>\n",
       "</div>"
      ],
      "text/plain": [
       "             Test RMSE  Test R2  Test MAE\n",
       "OLS              9.601   -0.300     6.381\n",
       "Lasso            8.444   -0.005     6.217\n",
       "Ridge            8.396    0.006     6.159\n",
       "Elastic Net      8.391    0.007     6.162"
      ]
     },
     "execution_count": 27,
     "metadata": {},
     "output_type": "execute_result"
    }
   ],
   "source": [
    "columns=['Test RMSE', 'Test R2', 'Test MAE']\n",
    "rows=['OLS', 'Lasso', 'Ridge', 'Elastic Net']\n",
    "results=pd.DataFrame(0.0, columns=columns, index=rows) \n",
    "\n",
    "methods=[ols, lasso, ridge, enet]\n",
    "\n",
    "for i, method in enumerate(methods):\n",
    "    \n",
    "    y_pred=method.predict(X_test)   \n",
    "    results.iloc[i,0] = np.sqrt(mean_squared_error(y_test, y_pred))\n",
    "    results.iloc[i,1] = r2_score(y_test, y_pred)\n",
    "    results.iloc[i,2] = mean_absolute_error(y_test, y_pred)\n",
    "\n",
    "results.round(3)"
   ]
  }
 ],
 "metadata": {
  "kernelspec": {
   "display_name": "Python 3",
   "language": "python",
   "name": "python3"
  },
  "language_info": {
   "codemirror_mode": {
    "name": "ipython",
    "version": 3
   },
   "file_extension": ".py",
   "mimetype": "text/x-python",
   "name": "python",
   "nbconvert_exporter": "python",
   "pygments_lexer": "ipython3",
   "version": "3.6.2"
  }
 },
 "nbformat": 4,
 "nbformat_minor": 2
}
